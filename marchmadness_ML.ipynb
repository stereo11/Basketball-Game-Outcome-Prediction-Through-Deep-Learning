{
 "cells": [
  {
   "cell_type": "code",
   "execution_count": null,
   "metadata": {},
   "outputs": [],
   "source": [
    "from connect import ibis_connect, snowpark_connect\n",
    "from ibis.interactive import *\n",
    "from snowflake.snowpark import Session, functions as F, types as T\n",
    "from snowflake.snowpark.functions import when, lit\n",
    "\n",
    "import os\n",
    "\n",
    "con = ibis_connect()"
   ]
  },
  {
   "cell_type": "markdown",
   "metadata": {},
   "source": [
    "# Load the data into tables"
   ]
  },
  {
   "cell_type": "code",
   "execution_count": null,
   "metadata": {},
   "outputs": [],
   "source": [
    "import zipfile\n",
    "from pathlib import Path\n",
    "\n",
    "import polars as pl\n",
    "from ibis.interactive import *\n",
    "\n",
    "\n",
    "def process_file(con, file, zf):\n",
    "   table_name = convert_to_all_caps_and_prefix(file.filename)\n",
    "   t = pl.read_csv(zf.read(file), encoding=\"utf8-lossy\")\n",
    "   t = ibis.memtable(t)\n",
    "   t = t.rename({c.upper(): c for c in t.columns})\n",
    "   t = con.create_table(table_name, t, overwrite=True)\n",
    "   return t\n",
    "\n",
    "\n",
    " with zipfile.ZipFile(\n",
    "     Path(__file__).parents[1] / \"data\" / \"mm-learning-mania-2024.zip\",\n",
    "     \"r\",\n",
    " ) as zf:\n",
    "     files = zf.filelist\n",
    "     for file in files:\n",
    "         t = process_file(con, file, zf)"
   ]
  },
  {
   "cell_type": "code",
   "execution_count": null,
   "metadata": {},
   "outputs": [],
   "source": [
    "def combine_stats(con, table_name: str, schema: str):\n",
    "    t = con.table(table_name, schema=schema)\n",
    "    t = t.mutate(W1Column=_.WScore)\n",
    "    t = t.mutate(W2Column=_.LScore)\n",
    "    winning = t.select(\"Season\", \"DayNum\", s.startswith(\"W\")).mutate(Won=1)\n",
    "    winning = winning.rename(\n",
    "        {\n",
    "            c[1:]: c\n",
    "            for c in winning.columns\n",
    "            if c.startswith(\"W\") and c not in [\"Won\", \"WLoc\", \"W1Column\", \"W2Column\"]\n",
    "        }\n",
    "    )\n",
    "\n",
    "    losing = t.select(\n",
    "        \"Season\", \"DayNum\", \"WLoc\", \"W1Column\", \"W2Column\", s.startswith(\"L\")\n",
    "    ).mutate(Won=0)\n",
    "    losing = losing.rename(\n",
    "        {\n",
    "            c[1:]: c\n",
    "            for c in losing.columns\n",
    "            if c.startswith(\"L\") and c not in [\"Won\", \"WLoc\"]\n",
    "        }\n",
    "    )\n",
    "    return winning.union(losing)\n",
    "\n",
    "\n",
    "def flatten_regions(con, table_name: str, schema: str):\n",
    "    flattened_regions = (\n",
    "        con.table(table_name, schema=schema)\n",
    "        .pivot_longer(s.startswith(\"Region\"))\n",
    "        .rename({\"Region\": \"name\", \"RegionName\": \"value\"})\n",
    "        .mutate(Region=_.Region.replace(\"Region\", \"\"))\n",
    "        .drop(\"DayZero\")\n",
    "    )\n",
    "    return flattened_regions"
   ]
  },
  {
   "cell_type": "code",
   "execution_count": null,
   "metadata": {},
   "outputs": [],
   "source": [
    "m_reg = combine_stats(con, \"MREGULARSEASONDETAILEDRESULTS\", schema=\"MEN\")"
   ]
  },
  {
   "cell_type": "code",
   "execution_count": null,
   "metadata": {},
   "outputs": [],
   "source": [
    "w_margin = (\n",
    "    m_reg.filter(_.Won == 1)\n",
    "    .mutate(ScoreDiff=_.W1Column - _.W2Column)\n",
    "    .group_by([\"Season\", \"TeamID\"])\n",
    "    .agg(WinMarginMedian=_.ScoreDiff.median(), WinMarginMean=_.ScoreDiff.mean())\n",
    ")\n",
    "\n",
    "l_margin = (\n",
    "    m_reg.filter(_.Won == 0)\n",
    "    .mutate(ScoreDiff=_.W1Column - _.W2Column)\n",
    "    .group_by([\"Season\", \"TeamID\"])\n",
    "    .agg(LoseMarginMedian=_.ScoreDiff.median(), LoseMarginMean=_.ScoreDiff.mean())\n",
    ")\n",
    "\n",
    "m_season_margin = w_margin.join(l_margin, ([\"Season\", \"TeamID\"]))"
   ]
  },
  {
   "cell_type": "code",
   "execution_count": null,
   "metadata": {},
   "outputs": [],
   "source": [
    "ctw = (\n",
    "    combine_stats(con, \"MSECONDARYTOURNEYCOMPACTRESULTS\", \"MEN\")\n",
    "    .group_by([\"Season\", \"TeamID\"])\n",
    "    .agg(CTWins=_.Won.sum(), AverageCTScore=_.Score.mean())\n",
    ")"
   ]
  },
  {
   "cell_type": "code",
   "execution_count": null,
   "metadata": {},
   "outputs": [],
   "source": [
    "season_stats = (\n",
    "    m_reg.drop(\"DayNum\")\n",
    "    .group_by([\"Season\", \"TeamID\"])\n",
    "    .agg(s.across(s.numeric(), dict(mean=_.mean(), median=_.median(), stddev=_.std())))\n",
    "    .drop(s.startswith(\"Won_\"), s.startswith(\"Season_\"), s.startswith(\"TeamID_\"))\n",
    ")"
   ]
  },
  {
   "cell_type": "code",
   "execution_count": null,
   "metadata": {},
   "outputs": [],
   "source": [
    "hna = (\n",
    "    m_reg.group_by([\"Season\", \"TeamID\", \"WLoc\"])\n",
    "    .agg(WinCount=_.Won.sum())\n",
    "    .mutate(WLoc=\"WLoc\" + _.WLoc)\n",
    "    .pivot_wider(names_from=\"WLoc\", values_from=\"WinCount\")\n",
    "    .mutate(s.across(s.startswith(\"WLoc\"), ibis.coalesce(_, 0)))\n",
    ")"
   ]
  },
  {
   "cell_type": "code",
   "execution_count": null,
   "metadata": {},
   "outputs": [],
   "source": [
    "flattened_regions = flatten_regions(con, \"MSEASONS\", schema=\"MEN\")\n",
    "\n",
    "m_regions = (\n",
    "    con.table(\"MNCAATOURNEYw_team_seedS\", \"MEN\")\n",
    "    .mutate(Region=_.Seed[0])\n",
    "    .join(flattened_regions, [\"Season\", \"Region\"])\n",
    ")"
   ]
  },
  {
   "cell_type": "code",
   "execution_count": null,
   "metadata": {},
   "outputs": [],
   "source": [
    "season_joined = (\n",
    "    season_stats.join(hna, [\"Season\", \"TeamID\"])\n",
    "    .join(m_season_margin, [\"Season\", \"TeamID\"])\n",
    "    .join(ctw, [\"Season\", \"TeamID\"], how=\"left\")\n",
    "    .join(m_regions, [\"Season\", \"TeamID\"])\n",
    ").drop(s.endswith(\"_right\"))\n",
    "\n",
    "season_joined"
   ]
  },
  {
   "cell_type": "code",
   "execution_count": null,
   "metadata": {},
   "outputs": [],
   "source": [
    "#season_joined = season_joined.cache()"
   ]
  },
  {
   "cell_type": "code",
   "execution_count": null,
   "metadata": {},
   "outputs": [],
   "source": [
    "season_joined"
   ]
  },
  {
   "cell_type": "code",
   "execution_count": null,
   "metadata": {},
   "outputs": [],
   "source": [
    "# If we wanted to see how far these teams made it each year...\n",
    "\n",
    "tournament_progress = (\n",
    "    combine_stats(con, \"MNCAATOURNEYCOMPACTRESULTS\", \"MEN\")\n",
    "    .select(\"Season\", \"DayNum\", \"TeamID\")\n",
    "    .mutate(\n",
    "        Round=ibis.row_number().over(\n",
    "            ibis.window(group_by=[\"Season\", \"TeamID\"], order_by=_.DayNum)\n",
    "        )\n",
    "    )\n",
    ")"
   ]
  },
  {
   "cell_type": "code",
   "execution_count": null,
   "metadata": {},
   "outputs": [],
   "source": [
    "# This is super hacky, but I need to be able to use the same session to share cached tables.\n",
    "# I also want to avoid this message: SnowparkSessionException: (1409): More than one active session is detected. When you call...\n",
    "\n",
    "@classmethod\n",
    "def from_ibis(self, con) -> Session:\n",
    "    return Session.builder.config(\"connection\", con.con).getOrCreate()\n",
    "\n",
    "Session.from_ibis = from_ibis\n",
    "\n",
    "session = Session.from_ibis(con)"
   ]
  },
  {
   "cell_type": "code",
   "execution_count": null,
   "metadata": {},
   "outputs": [],
   "source": [
    "session"
   ]
  },
  {
   "cell_type": "code",
   "execution_count": null,
   "metadata": {},
   "outputs": [],
   "source": [
    "session.sql(ibis.to_sql(season_joined)).show()"
   ]
  },
  {
   "cell_type": "code",
   "execution_count": null,
   "metadata": {},
   "outputs": [],
   "source": [
    "seeds = session.table('MEN.MNCAATOURNEYSEEDS')\n",
    "for col in seeds.columns:\n",
    "    seeds = seeds.withColumnRenamed(col, col.upper())\n",
    "seeds.show()"
   ]
  },
  {
   "cell_type": "code",
   "execution_count": null,
   "metadata": {},
   "outputs": [],
   "source": [
    "## Tournament data for training\n",
    "\n",
    "tourney = session.table('MEN.MNCAATOURNEYCOMPACTRESULTS')\n",
    "for col in tourney.columns:\n",
    "    tourney = tourney.withColumnRenamed(col, col.upper())\n",
    "tourney = tourney.select('SEASON','WTEAMID','LTEAMID','WSCORE','LSCORE','DAYNUM')"
   ]
  },
  {
   "cell_type": "code",
   "execution_count": null,
   "metadata": {},
   "outputs": [],
   "source": [
    "seed_value = (\n",
    "    seeds\n",
    "    .with_column(\"SEED_REGION\", F.substring(F.col(\"SEED\"), 1, 1))\n",
    "    .with_column(\n",
    "        \"SEED_VALUE\", F.substring(F.col(\"SEED\"), 2, F.length(F.col(\"SEED\")) - 1)\n",
    "    )\n",
    "    .select(\"SEASON\", \"TEAMID\", \"SEED_REGION\", \"SEED_VALUE\")\n",
    "    .with_column(\n",
    "        \"SEED_VALUE\",\n",
    "        F.cast(F.regexp_replace(F.col(\"SEED_VALUE\"), \"[a-z]\", \"\"), T.IntegerType()),\n",
    "    )\n",
    ")\n",
    "\n",
    "seed_value.show()"
   ]
  },
  {
   "cell_type": "code",
   "execution_count": null,
   "metadata": {},
   "outputs": [],
   "source": [
    "# Tournament Progress (not using just cool to show)\n",
    "\n",
    "df_w = tourney.select(\"SEASON\", \"WTEAMID\", \"DAYNUM\").with_column_renamed(\"WTEAMID\", \"TEAMID\")\n",
    "df_l = tourney.select(\"SEASON\", \"LTEAMID\", \"DAYNUM\").with_column_renamed(\"LTEAMID\", \"TEAMID\")\n",
    "df_union = df_w.union(df_l)\n",
    "\n",
    "df_union = df_union.with_column(\n",
    "    \"ROUND_NUMBER\",\n",
    "    F.row_number().over(Window.partition_by([\"SEASON\", \"TEAMID\"]).order_by(\"DAYNUM\")),\n",
    ")\n",
    "\n",
    "df_union = df_union.with_column(\n",
    "    \"ROUND_NAME\",\n",
    "    F.when(F.col(\"ROUND_NUMBER\") == F.lit(1), \"Round of 64\")\n",
    "    .when(F.col(\"ROUND_NUMBER\") == F.lit(2), \"Round of 32\")\n",
    "    .when(F.col(\"ROUND_NUMBER\") == F.lit(3), \"Sweet 16\")\n",
    "    .when(F.col(\"ROUND_NUMBER\") == F.lit(4), \"Elite Eight\")\n",
    "    .when(F.col(\"ROUND_NUMBER\") == F.lit(5), \"Final Four\")\n",
    "    .when(F.col(\"ROUND_NUMBER\") == F.lit(6), \"National Championship\"),\n",
    ")\n",
    "\n",
    "df_union = df_union.select(\"SEASON\", \"TEAMID\", \"ROUND_NUMBER\", \"ROUND_NAME\",\"DAYNUM\")\n",
    "df_union.show()"
   ]
  },
  {
   "cell_type": "code",
   "execution_count": null,
   "metadata": {},
   "outputs": [],
   "source": [
    "# Get max round for each team and season\n",
    "# This will also help us get the round for each game played\n",
    "max_round = (\n",
    "    df_union.with_column(\n",
    "        \"ROW_NUM\",\n",
    "        F.row_number().over(\n",
    "            Window.partition_by([\"SEASON\", \"TEAMID\"]).order_by(\n",
    "                F.col(\"ROUND_NUMBER\").desc()\n",
    "            )\n",
    "        ),\n",
    "    )\n",
    "    .filter(F.col(\"ROW_NUM\") == 1)\n",
    "    .select(\"SEASON\", \"TEAMID\", \"ROUND_NUMBER\", \"ROUND_NAME\",\"DAYNUM\")\n",
    ")\n",
    "\n",
    "# Show a team and how they did the last 10 years\n",
    "max_round.filter(F.col('TEAMID')==1276).sort(F.col('season').desc()).show(10)"
   ]
  },
  {
   "cell_type": "code",
   "execution_count": null,
   "metadata": {},
   "outputs": [],
   "source": [
    "## ROUNDS & SEEDS\n",
    "tourney_rounds = tourney.join(\n",
    "    df_union,\n",
    "    (tourney.col(\"wteamid\") == df_union.col(\"teamid\"))\n",
    "    & (tourney.col(\"season\") == df_union.col(\"season\"))\n",
    "    & (tourney.col(\"daynum\") == df_union.col(\"daynum\")),\n",
    ").select(tourney.col(\"SEASON\").alias(\"SEASON\"), \"WTEAMID\", \"LTEAMID\",\"WSCORE\",\"LSCORE\",\"ROUND_NUMBER\",\"DAY_NUM\").drop(\n",
    "    \"ROUND_NAME\"\n",
    ")\n",
    "\n",
    "tourney_rounds.show()"
   ]
  },
  {
   "cell_type": "code",
   "execution_count": null,
   "metadata": {},
   "outputs": [],
   "source": [
    "tourney_seeds = tourney_rounds.join(\n",
    "    seed_value,\n",
    "    (tourney_rounds.col(\"wteamid\") == seed_value.col(\"teamid\"))\n",
    "    & (tourney_rounds.col(\"season\") == seed_value.col(\"season\")),\n",
    ").select(tourney_rounds.col(\"SEASON\").alias(\"SEASON\"), \"WTEAMID\", \"LTEAMID\",\"WSCORE\",\"LSCORE\",\"ROUND_NUMBER\",\"DAY_NUM\",seed_value.col(\"SEED_VALUE\").alias(\"w_team_seed\")).drop(\n",
    "    \"ROUND_NAME\"\n",
    ")\n",
    "tourney_seeds.show()"
   ]
  },
  {
   "cell_type": "code",
   "execution_count": null,
   "metadata": {},
   "outputs": [],
   "source": [
    "tourney_seeds = tourney_seeds.cache_result()\n",
    "tourney_seeds = tourney_seeds.join(\n",
    "    seed_value,\n",
    "    (tourney_seeds.col(\"lteamid\") == seed_value.col(\"teamid\"))\n",
    "    & (tourney_seeds.col(\"season\") == seed_value.col(\"season\")),\n",
    ").select(tourney_seeds.col(\"SEASON\").alias(\"SEASON\"), \"WTEAMID\", \"LTEAMID\",\"WSCORE\",\"LSCORE\",\"ROUND_NUMBER\",\"DAY_NUM\",\"w_team_seed\",seed_value.col(\"SEED_VALUE\").alias(\"l_SEED\"))\n",
    "\n",
    "tourney_seeds.show()"
   ]
  },
  {
   "cell_type": "code",
   "execution_count": null,
   "metadata": {},
   "outputs": [],
   "source": [
    "tourney_seeds.with_column(\"total_score\",F.col(\"WSCORE\")+F.col(\"LSCORE\")).show()"
   ]
  },
  {
   "cell_type": "code",
   "execution_count": null,
   "metadata": {},
   "outputs": [],
   "source": [
    "## Add in conference names, uppercase column headers and values and one hot encode\n",
    "conf = session.table('MEN.MTEAMCONFERENCES')\n",
    "for col in conf.columns:\n",
    "    conf = conf.withColumnRenamed(col, col.upper())\n",
    "\n",
    "def fix_values(column):\n",
    "    return F.upper(F.regexp_replace(F.col(column), \"[^a-zA-Z0-9]+\", \"_\"))\n",
    "\n",
    "conf = conf.with_column(\"CONFABBREV\", fix_values(\"CONFABBREV\"))\n",
    "conf = conf.with_column_renamed(\"SEASON\", \"C_SEASON\")\n",
    "conf = conf.with_column_renamed(\"TEAMID\", \"C_TEAMID\")\n",
    "\n",
    "conf.show()"
   ]
  },
  {
   "cell_type": "code",
   "execution_count": null,
   "metadata": {},
   "outputs": [],
   "source": [
    "tourney_conf = tourney_seeds.join(\n",
    "    conf,\n",
    "    (tourney_seeds.col(\"wteamid\") == conf.col(\"C_teamid\"))\n",
    "    & (tourney_seeds.col(\"season\") == conf.col(\"C_season\"))).drop(\"C_SEASON\",\"C_TEAMID\").with_column_renamed(\"CONFABBREV\", \"W_CONF\")\n",
    "tourney_conf.show()"
   ]
  },
  {
   "cell_type": "code",
   "execution_count": null,
   "metadata": {},
   "outputs": [],
   "source": [
    "tourney_final = tourney_conf.join(\n",
    "    conf,\n",
    "    (tourney_seeds.col(\"lteamid\") == conf.col(\"C_teamid\"))\n",
    "    & (tourney_seeds.col(\"season\") == conf.col(\"C_season\"))).drop(\"C_SEASON\",\"C_TEAMID\").with_column_renamed(\"CONFABBREV\", \"l_CONF\")\n",
    "tourney_final.show()"
   ]
  },
  {
   "cell_type": "code",
   "execution_count": null,
   "metadata": {},
   "outputs": [],
   "source": [
    "# We now have our final Tournament data (tourney_final) and season/conf tourny data () lets put it all together\n",
    "season.to_pandas().head()"
   ]
  },
  {
   "cell_type": "code",
   "execution_count": null,
   "metadata": {},
   "outputs": [],
   "source": [
    "for col in season.columns:\n",
    "    season = season.withColumnRenamed(col, col.upper())\n",
    "    \n",
    "season.to_pandas().head()"
   ]
  },
  {
   "cell_type": "code",
   "execution_count": null,
   "metadata": {},
   "outputs": [],
   "source": [
    "season = season.drop('SEED','REGIONNAME')"
   ]
  },
  {
   "cell_type": "code",
   "execution_count": null,
   "metadata": {},
   "outputs": [],
   "source": [
    "tourney_final.to_pandas().head()"
   ]
  },
  {
   "cell_type": "code",
   "execution_count": null,
   "metadata": {},
   "outputs": [],
   "source": [
    "season_w = season.select(\n",
    "    *[F.col(col).alias(f\"W_{col}\") for col in season.columns]\n",
    ")\n",
    "\n",
    "season_l = season.select(\n",
    "    *[F.col(col).alias(f\"L_{col}\") for col in season.columns]\n",
    ")\n",
    "season_w.to_pandas().head()"
   ]
  },
  {
   "cell_type": "code",
   "execution_count": null,
   "metadata": {},
   "outputs": [],
   "source": [
    "season_l.to_pandas().head()"
   ]
  },
  {
   "cell_type": "code",
   "execution_count": null,
   "metadata": {},
   "outputs": [],
   "source": [
    "season_w.count()"
   ]
  },
  {
   "cell_type": "code",
   "execution_count": null,
   "metadata": {},
   "outputs": [],
   "source": [
    "season_l.count()"
   ]
  },
  {
   "cell_type": "code",
   "execution_count": null,
   "metadata": {},
   "outputs": [],
   "source": [
    "tourney_final.count()"
   ]
  },
  {
   "cell_type": "code",
   "execution_count": null,
   "metadata": {},
   "outputs": [],
   "source": [
    "final = (\n",
    "    tourney_final.join(\n",
    "        season_w,\n",
    "        on=(\n",
    "            (tourney_final.WTEAMID == season_w.W_TEAMID)\n",
    "            & (tourney_final.SEASON == season_w.W_SEASON)\n",
    "        ),\n",
    "    )\n",
    "    .drop(\"W_TEAMID\", \"W_SEASON\")\n",
    "    .join(\n",
    "        season_l,\n",
    "        on=(\n",
    "            (tourney_final.LTEAMID == season_l.L_TEAMID)\n",
    "            & (tourney_final.SEASON == season_l.L_SEASON)\n",
    "        ),\n",
    "    )\n",
    "    .drop(\"L_TEAMID\", \"L_SEASON\")\n",
    ")\n",
    "\n",
    "final.count()"
   ]
  },
  {
   "cell_type": "code",
   "execution_count": null,
   "metadata": {},
   "outputs": [],
   "source": [
    "final.to_pandas().head()"
   ]
  },
  {
   "cell_type": "code",
   "execution_count": null,
   "metadata": {},
   "outputs": [],
   "source": [
    "final.write.save_as_table(\n",
    "    \"MEN.FINAL_FEATURES\", mode=\"overwrite\"\n",
    ")"
   ]
  },
  {
   "cell_type": "code",
   "execution_count": null,
   "metadata": {},
   "outputs": [],
   "source": [
    "df = final #session.table(\"MEN.FINAL_FEATURES\")"
   ]
  },
  {
   "cell_type": "code",
   "execution_count": null,
   "metadata": {},
   "outputs": [],
   "source": [
    "new_cols = {}\n",
    "\n",
    "for c in df.columns:\n",
    "    if c.startswith(\"W\"):\n",
    "        new_cols[c] = \"L\" + c[1:]\n",
    "    elif c.startswith(\"L\"):\n",
    "        new_cols[c] = \"W\" + c[1:]\n",
    "    else:\n",
    "        new_cols[c] = c\n",
    "\n",
    "df_flipped = df.select([F.col(c).alias(new_cols.get(c, c)) for c in df.columns]).select(\n",
    "    *[col for col in df.columns]\n",
    ")"
   ]
  },
  {
   "cell_type": "code",
   "execution_count": null,
   "metadata": {},
   "outputs": [],
   "source": [
    "df.limit(1).union_all(df_flipped.limit(1)).to_pandas().head()"
   ]
  },
  {
   "cell_type": "code",
   "execution_count": null,
   "metadata": {},
   "outputs": [],
   "source": [
    "df = df.with_column(\"WIN_INDICATOR\", F.lit(1))\n",
    "df_flipped = df_flipped.with_column(\"WIN_INDICATOR\", F.lit(0))\n",
    "\n",
    "df = df.union_all(df_flipped)"
   ]
  },
  {
   "cell_type": "code",
   "execution_count": null,
   "metadata": {},
   "outputs": [],
   "source": [
    "OHE = OneHotEncoder(\n",
    "    input_cols=[\"W_CONF\",\"L_CONF\"],\n",
    "    output_cols=[\"W_CONF\",\"L_CONF\"],\n",
    "    drop_input_cols=True,\n",
    "    drop=\"first\",\n",
    "    handle_unknown=\"ignore\",\n",
    ")\n",
    "\n",
    "final_train = OHE.fit(df).transform(df)\n",
    "final_train.show()"
   ]
  },
  {
   "cell_type": "code",
   "execution_count": null,
   "metadata": {},
   "outputs": [],
   "source": [
    "final_train.count()"
   ]
  },
  {
   "cell_type": "code",
   "execution_count": null,
   "metadata": {},
   "outputs": [],
   "source": [
    "final_train.write.save_as_table(\n",
    "    \"MEN.FINAL_TRAIN\", mode=\"overwrite\"\n",
    ")"
   ]
  },
  {
   "cell_type": "code",
   "execution_count": null,
   "metadata": {},
   "outputs": [],
   "source": [
    "from snowflake.snowpark.functions import when, lit\n",
    "\n",
    "final = final.with_column(\n",
    "    \"ROUND\",\n",
    "    when((final.daynum >= 134) & (final.daynum <= 135), lit(0))\n",
    "    .when((final.daynum >= 136) & (final.daynum <= 137), lit(1))\n",
    "    .when((final.daynum >= 138) & (final.daynum <= 139), lit(2))\n",
    "    .when((final.daynum >= 143) & (final.daynum <= 144), lit(3))\n",
    "    .when(final.daynum == 145, lit(4))\n",
    "    .when(final.daynum == 152, lit(5))\n",
    "    .otherwise(lit(6)),\n",
    ")\n",
    "\n",
    "final.filter(F.col(\"ROUND\") == 0).show()"
   ]
  },
  {
   "cell_type": "markdown",
   "metadata": {},
   "source": [
    "# START TRAINING"
   ]
  },
  {
   "cell_type": "code",
   "execution_count": 1,
   "metadata": {},
   "outputs": [],
   "source": [
    "import ast\n",
    "import json\n",
    "import warnings\n",
    "\n",
    "import pandas as pd\n",
    "from snowflake.ml.modeling.impute import SimpleImputer\n",
    "from snowflake.ml.modeling.metrics import accuracy_score\n",
    "from snowflake.ml.modeling.model_selection import GridSearchCV\n",
    "from snowflake.ml.modeling.preprocessing import OneHotEncoder\n",
    "from snowflake.ml.modeling.xgboost import XGBClassifier\n",
    "from snowflake.ml.registry import Registry\n",
    "from snowflake.ml.utils.connection_params import SnowflakeLoginOptions\n",
    "from snowflake.snowpark import Session\n",
    "from snowflake.snowpark import types as T\n",
    "from snowflake.snowpark.functions import col\n",
    "from snowflake.snowpark import functions as F\n",
    "\n",
    "warnings.simplefilter(action=\"ignore\", category=UserWarning)"
   ]
  },
  {
   "cell_type": "code",
   "execution_count": 2,
   "metadata": {},
   "outputs": [
    {
     "name": "stderr",
     "output_type": "stream",
     "text": [
      "SnowflakeLoginOptions() is in private preview since 0.2.0. Do not use it in production. \n"
     ]
    }
   ],
   "source": [
    "session = Session.builder.configs(SnowflakeLoginOptions()).getOrCreate()"
   ]
  },
  {
   "cell_type": "code",
   "execution_count": 3,
   "metadata": {},
   "outputs": [],
   "source": [
    "final = session.table('MEN.FINAL_TRAIN')"
   ]
  },
  {
   "cell_type": "code",
   "execution_count": 5,
   "metadata": {},
   "outputs": [
    {
     "data": {
      "text/plain": [
       "{'W_CTWINS': 2604,\n",
       " 'W_AVERAGECTSCORE': 2604,\n",
       " 'L_CTWINS': 2604,\n",
       " 'L_AVERAGECTSCORE': 2604}"
      ]
     },
     "execution_count": 5,
     "metadata": {},
     "output_type": "execute_result"
    }
   ],
   "source": [
    "# Columns with null values and their respective counts\n",
    "{\n",
    "    k: v\n",
    "    for k, v in {\n",
    "        col_name: final.where(F.col(col_name).is_null()).count()\n",
    "        for col_name in final.columns\n",
    "    }.items()\n",
    "    if v > 0\n",
    "}"
   ]
  },
  {
   "cell_type": "code",
   "execution_count": 6,
   "metadata": {},
   "outputs": [],
   "source": [
    "final = final.drop(['W_CTWINS','W_AVERAGECTSCORE','L_CTWINS','L_AVERAGECTSCORE'])"
   ]
  },
  {
   "cell_type": "code",
   "execution_count": 7,
   "metadata": {},
   "outputs": [],
   "source": [
    "final = final.drop(['W_WLOCN','W_WLOCH','W_WLOCA','L_WLOCN','L_WLOCH','L_WLOCA']) #variants"
   ]
  },
  {
   "cell_type": "code",
   "execution_count": 8,
   "metadata": {},
   "outputs": [],
   "source": [
    "parameters = {\n",
    "    \"n_estimators\": [100, 200, 300, 400, 500],\n",
    "    # \"learning_rate\": [0.1, 0.2, 0.3, 0.4, 0.5],\n",
    "    # \"max_depth\": list(range(3, 6, 1)),\n",
    "    # \"min_child_weight\": list(range(1, 6, 1)),\n",
    "}"
   ]
  },
  {
   "cell_type": "code",
   "execution_count": 9,
   "metadata": {},
   "outputs": [],
   "source": [
    "train = final.filter(F.col('SEASON') <= 2021).cache_result()\n",
    "test = final.filter(F.col('SEASON') > 2021).cache_result()"
   ]
  },
  {
   "cell_type": "code",
   "execution_count": 10,
   "metadata": {},
   "outputs": [],
   "source": [
    "session.use_warehouse('MM_L')"
   ]
  },
  {
   "cell_type": "code",
   "execution_count": 50,
   "metadata": {},
   "outputs": [
    {
     "data": {
      "text/plain": [
       "['W_CONF_ACC',\n",
       " 'W_CONF_AEC',\n",
       " 'W_CONF_A_SUN',\n",
       " 'W_CONF_A_TEN',\n",
       " 'W_CONF_BIG_EAST',\n",
       " 'W_CONF_BIG_SKY',\n",
       " 'W_CONF_BIG_SOUTH',\n",
       " 'W_CONF_BIG_TEN',\n",
       " 'W_CONF_BIG_TWELVE',\n",
       " 'W_CONF_BIG_WEST',\n",
       " 'W_CONF_CAA',\n",
       " 'W_CONF_CUSA',\n",
       " 'W_CONF_HORIZON',\n",
       " 'W_CONF_IVY',\n",
       " 'W_CONF_MAAC',\n",
       " 'W_CONF_MAC',\n",
       " 'W_CONF_MEAC',\n",
       " 'W_CONF_MID_CONT',\n",
       " 'W_CONF_MVC',\n",
       " 'W_CONF_MWC',\n",
       " 'W_CONF_NEC',\n",
       " 'W_CONF_OVC',\n",
       " 'W_CONF_PAC_TEN',\n",
       " 'W_CONF_PAC_TWELVE',\n",
       " 'W_CONF_PATRIOT',\n",
       " 'W_CONF_SEC',\n",
       " 'W_CONF_SOUTHERN',\n",
       " 'W_CONF_SOUTHLAND',\n",
       " 'W_CONF_SUMMIT',\n",
       " 'W_CONF_SUN_BELT',\n",
       " 'W_CONF_SWAC',\n",
       " 'W_CONF_WAC',\n",
       " 'W_CONF_WCC',\n",
       " 'L_CONF_ACC',\n",
       " 'L_CONF_AEC',\n",
       " 'L_CONF_A_SUN',\n",
       " 'L_CONF_A_TEN',\n",
       " 'L_CONF_BIG_EAST',\n",
       " 'L_CONF_BIG_SKY',\n",
       " 'L_CONF_BIG_SOUTH',\n",
       " 'L_CONF_BIG_TEN',\n",
       " 'L_CONF_BIG_TWELVE',\n",
       " 'L_CONF_BIG_WEST',\n",
       " 'L_CONF_CAA',\n",
       " 'L_CONF_CUSA',\n",
       " 'L_CONF_HORIZON',\n",
       " 'L_CONF_IVY',\n",
       " 'L_CONF_MAAC',\n",
       " 'L_CONF_MAC',\n",
       " 'L_CONF_MEAC',\n",
       " 'L_CONF_MID_CONT',\n",
       " 'L_CONF_MVC',\n",
       " 'L_CONF_MWC',\n",
       " 'L_CONF_NEC',\n",
       " 'L_CONF_OVC',\n",
       " 'L_CONF_PAC_TEN',\n",
       " 'L_CONF_PAC_TWELVE',\n",
       " 'L_CONF_PATRIOT',\n",
       " 'L_CONF_SEC',\n",
       " 'L_CONF_SOUTHERN',\n",
       " 'L_CONF_SOUTHLAND',\n",
       " 'L_CONF_SUMMIT',\n",
       " 'L_CONF_SUN_BELT',\n",
       " 'L_CONF_SWAC',\n",
       " 'L_CONF_WAC',\n",
       " 'L_CONF_WCC',\n",
       " 'W_SEED',\n",
       " 'L_SEED',\n",
       " 'W_SCORE_MEAN',\n",
       " 'W_FGM_MEAN',\n",
       " 'W_FGA_MEAN',\n",
       " 'W_FGM3_MEAN',\n",
       " 'W_FGA3_MEAN',\n",
       " 'W_FTM_MEAN',\n",
       " 'W_FTA_MEAN',\n",
       " 'W_OR_MEAN',\n",
       " 'W_DR_MEAN',\n",
       " 'W_AST_MEAN',\n",
       " 'W_TO_MEAN',\n",
       " 'W_STL_MEAN',\n",
       " 'W_BLK_MEAN',\n",
       " 'W_PF_MEAN',\n",
       " 'W_W1COLUMN_MEAN',\n",
       " 'W_W2COLUMN_MEAN',\n",
       " 'W_SCORE_MEDIAN',\n",
       " 'W_FGM_MEDIAN',\n",
       " 'W_FGA_MEDIAN',\n",
       " 'W_FGM3_MEDIAN',\n",
       " 'W_FGA3_MEDIAN',\n",
       " 'W_FTM_MEDIAN',\n",
       " 'W_FTA_MEDIAN',\n",
       " 'W_OR_MEDIAN',\n",
       " 'W_DR_MEDIAN',\n",
       " 'W_AST_MEDIAN',\n",
       " 'W_TO_MEDIAN',\n",
       " 'W_STL_MEDIAN',\n",
       " 'W_BLK_MEDIAN',\n",
       " 'W_PF_MEDIAN',\n",
       " 'W_W1COLUMN_MEDIAN',\n",
       " 'W_W2COLUMN_MEDIAN',\n",
       " 'W_SCORE_STDDEV',\n",
       " 'W_FGM_STDDEV',\n",
       " 'W_FGA_STDDEV',\n",
       " 'W_FGM3_STDDEV',\n",
       " 'W_FGA3_STDDEV',\n",
       " 'W_FTM_STDDEV',\n",
       " 'W_FTA_STDDEV',\n",
       " 'W_OR_STDDEV',\n",
       " 'W_DR_STDDEV',\n",
       " 'W_AST_STDDEV',\n",
       " 'W_TO_STDDEV',\n",
       " 'W_STL_STDDEV',\n",
       " 'W_BLK_STDDEV',\n",
       " 'W_PF_STDDEV',\n",
       " 'W_W1COLUMN_STDDEV',\n",
       " 'W_W2COLUMN_STDDEV',\n",
       " 'W_WINMARGINMEDIAN',\n",
       " 'W_WINMARGINMEAN',\n",
       " 'W_LOSEMARGINMEDIAN',\n",
       " 'W_LOSEMARGINMEAN',\n",
       " 'L_SCORE_MEAN',\n",
       " 'L_FGM_MEAN',\n",
       " 'L_FGA_MEAN',\n",
       " 'L_FGM3_MEAN',\n",
       " 'L_FGA3_MEAN',\n",
       " 'L_FTM_MEAN',\n",
       " 'L_FTA_MEAN',\n",
       " 'L_OR_MEAN',\n",
       " 'L_DR_MEAN',\n",
       " 'L_AST_MEAN',\n",
       " 'L_TO_MEAN',\n",
       " 'L_STL_MEAN',\n",
       " 'L_BLK_MEAN',\n",
       " 'L_PF_MEAN',\n",
       " 'L_W1COLUMN_MEAN',\n",
       " 'L_W2COLUMN_MEAN',\n",
       " 'L_SCORE_MEDIAN',\n",
       " 'L_FGM_MEDIAN',\n",
       " 'L_FGA_MEDIAN',\n",
       " 'L_FGM3_MEDIAN',\n",
       " 'L_FGA3_MEDIAN',\n",
       " 'L_FTM_MEDIAN',\n",
       " 'L_FTA_MEDIAN',\n",
       " 'L_OR_MEDIAN',\n",
       " 'L_DR_MEDIAN',\n",
       " 'L_AST_MEDIAN',\n",
       " 'L_TO_MEDIAN',\n",
       " 'L_STL_MEDIAN',\n",
       " 'L_BLK_MEDIAN',\n",
       " 'L_PF_MEDIAN',\n",
       " 'L_W1COLUMN_MEDIAN',\n",
       " 'L_W2COLUMN_MEDIAN',\n",
       " 'L_SCORE_STDDEV',\n",
       " 'L_FGM_STDDEV',\n",
       " 'L_FGA_STDDEV',\n",
       " 'L_FGM3_STDDEV',\n",
       " 'L_FGA3_STDDEV',\n",
       " 'L_FTM_STDDEV',\n",
       " 'L_FTA_STDDEV',\n",
       " 'L_OR_STDDEV',\n",
       " 'L_DR_STDDEV',\n",
       " 'L_AST_STDDEV',\n",
       " 'L_TO_STDDEV',\n",
       " 'L_STL_STDDEV',\n",
       " 'L_BLK_STDDEV',\n",
       " 'L_PF_STDDEV',\n",
       " 'L_W1COLUMN_STDDEV',\n",
       " 'L_W2COLUMN_STDDEV',\n",
       " 'L_WINMARGINMEDIAN',\n",
       " 'L_WINMARGINMEAN',\n",
       " 'L_LOSEMARGINMEDIAN',\n",
       " 'L_LOSEMARGINMEAN']"
      ]
     },
     "execution_count": 50,
     "metadata": {},
     "output_type": "execute_result"
    }
   ],
   "source": [
    "train.drop(['SEASON','WIN_INDICATOR','lteamid','wteamid','wscore','lscore','round','w_team_region','l_region','w_region','round_number']).columns"
   ]
  },
  {
   "cell_type": "code",
   "execution_count": 14,
   "metadata": {},
   "outputs": [
    {
     "name": "stderr",
     "output_type": "stream",
     "text": [
      "The version of package 'snowflake-snowpark-python' in the local environment is 1.13.0, which does not fit the criteria for the requirement 'snowflake-snowpark-python<2'. Your UDF might not work when the package version is different between the server and your local environment.\n",
      "Package 'fastparquet' is not installed in the local environment. Your UDF might not work when the package is installed on the server but not on your local environment.\n",
      "The version of package 'pyarrow' in the local environment is 15.0.1, which does not fit the criteria for the requirement 'pyarrow<14'. Your UDF might not work when the package version is different between the server and your local environment.\n",
      "The version of package 'cachetools' in the local environment is 5.3.3, which does not fit the criteria for the requirement 'cachetools<6'. Your UDF might not work when the package version is different between the server and your local environment.\n"
     ]
    },
    {
     "data": {
      "text/plain": [
       "<snowflake.ml.modeling.model_selection.grid_search_cv.GridSearchCV at 0x7fc408f3a8f0>"
      ]
     },
     "execution_count": 14,
     "metadata": {},
     "output_type": "execute_result"
    }
   ],
   "source": [
    "all_rounds = GridSearchCV(\n",
    "    estimator=XGBClassifier(),\n",
    "    param_grid=parameters,\n",
    "    n_jobs=-1,\n",
    "    scoring=\"accuracy\",\n",
    "    input_cols=train.drop(['SEASON','WIN_INDICATOR','lteamid','wteamid','wscore','lscore','round','w_team_region','l_region','w_region','round_number',\"W_CONF\",\"L_CONF\"]).columns,\n",
    "    label_cols=\"WIN_INDICATOR\",\n",
    "    output_cols=\"PRED_WIN_INDICATOR\",\n",
    ")\n",
    "\n",
    "# Train\n",
    "all_rounds.fit(train)"
   ]
  },
  {
   "cell_type": "code",
   "execution_count": 15,
   "metadata": {},
   "outputs": [],
   "source": [
    "session.use_warehouse('wh_xs')"
   ]
  },
  {
   "cell_type": "code",
   "execution_count": 16,
   "metadata": {},
   "outputs": [
    {
     "data": {
      "text/plain": [
       "64"
      ]
     },
     "execution_count": 16,
     "metadata": {},
     "output_type": "execute_result"
    }
   ],
   "source": [
    "result = all_rounds.predict(test).filter(F.col(\"PRED_WIN_INDICATOR\") == 1).filter(F.col(\"ROUND\") == 1)\n",
    "result.count()"
   ]
  },
  {
   "cell_type": "code",
   "execution_count": 17,
   "metadata": {},
   "outputs": [
    {
     "name": "stdout",
     "output_type": "stream",
     "text": [
      "Accuracy 2022: 0.78125\n",
      "Accuracy 2023: 0.75\n",
      "Accuracy total: 0.765625\n"
     ]
    }
   ],
   "source": [
    "accuracy = accuracy_score(\n",
    "    df=result.filter(result.season == 2022), y_true_col_names=\"WIN_INDICATOR\", y_pred_col_names=\"PRED_WIN_INDICATOR\"\n",
    ")\n",
    "print(f\"Accuracy 2022: {accuracy}\")\n",
    "\n",
    "accuracy = accuracy_score(\n",
    "    df=result.filter(result.season == 2023), y_true_col_names=\"WIN_INDICATOR\", y_pred_col_names=\"PRED_WIN_INDICATOR\"\n",
    ")\n",
    "print(f\"Accuracy 2023: {accuracy}\")\n",
    "\n",
    "accuracy = accuracy_score(\n",
    "    df=result, y_true_col_names=\"WIN_INDICATOR\", y_pred_col_names=\"PRED_WIN_INDICATOR\"\n",
    ")\n",
    "\n",
    "print(f\"Accuracy total: {accuracy}\")"
   ]
  },
  {
   "cell_type": "markdown",
   "metadata": {},
   "source": [
    "# Predicting the Bracket & final four (we want as many final 4 as possible)"
   ]
  },
  {
   "cell_type": "markdown",
   "metadata": {},
   "source": [
    "## Results play in games"
   ]
  },
  {
   "cell_type": "code",
   "execution_count": 47,
   "metadata": {},
   "outputs": [],
   "source": [
    "result = all_rounds.predict_proba(test).filter(F.col('ROUND') == 0).filter(F.col(\"season\") == 2023)#.filter(F.col(\"PRED_WIN_INDICATOR\") == 1)"
   ]
  },
  {
   "cell_type": "code",
   "execution_count": 41,
   "metadata": {},
   "outputs": [
    {
     "name": "stdout",
     "output_type": "stream",
     "text": [
      "-----------------------------------------------------------------------------------------------------------------------------------------------------------------------------------------------------------------------------------------------------------------------------------------------------------------------------------------------------------------------------------------------------------------------------------------------------------------------------------------------------------------------------------------------------------------------------------------------------------------------------------------------------------------------------------------------------------------------------------------------------------------------------------------------------------------------------------------------------------------------------------------------------------------------------------------------------------------------------------------------------------------------------------------------------------------------------------------------------------------------------------------------------------------------------------------------------------------------------------------------------------------------------------------------------------------------------------------------------------------------------------------------------------------------------------------------------------------------------------------------------------------------------------------------------------------------------------------------------------------------------------------------------------------------------------------------------------------------------------------------------------------------------------------------------------------------------------------------------------------------------------------------------------------------------------------------------------------------------------------------------------------------------------------------------------------------------------------------------------------------------------------------------------------------------------------------------------------------------------------------------------------------------------------------------------------------------------------------------------------------------------------------------------------------------------------------------------------------------------------------------------------------------------------------------------------------------------------------------------------------------------------------------------------------------------------------------------------------------------------------------------------------------------------------------------------------------------------------------------------------------------------------------------------------------------------------------------------------------------------------------------------------------------------------------------------------------------------------------------------------------------------------------------------------------------------------------------------------------------------------------------------------------------------------------------------------------------------------------------------------------------------\n",
      "|\"W_W1COLUMN_STDDEV\"  |\"W_TO_MEDIAN\"  |\"W_CONF_SWAC\"  |\"W_FGA3_MEDIAN\"  |\"W_DR_MEDIAN\"  |\"W_TO_STDDEV\"       |\"L_AST_MEDIAN\"  |\"L_W2COLUMN_STDDEV\"  |\"L_FTM_MEAN\"  |\"L_W2COLUMN_MEDIAN\"  |\"L_TO_MEDIAN\"  |\"L_CONF_BIG_EAST\"  |\"L_CONF_BIG_SKY\"  |\"L_FGA3_MEAN\"  |\"L_OR_MEAN\"  |\"L_CONF_IVY\"  |\"L_FGM3_MEDIAN\"  |\"W_FGA_STDDEV\"      |\"W_LOSEMARGINMEDIAN\"  |\"W_TO_MEAN\"  |\"L_DR_MEAN\"  |\"L_W1COLUMN_STDDEV\"  |\"L_CONF_AEC\"  |\"L_AST_STDDEV\"      |\"L_CONF_BIG_TEN\"  |\"L_DR_STDDEV\"       |\"L_PF_MEDIAN\"  |\"W_STL_MEAN\"  |\"W_LOSEMARGINMEAN\"  |\"W_CONF_MEAC\"  |\"W_PF_STDDEV\"       |\"W_FTM_MEAN\"  |\"W_CONF_MWC\"  |\"L_FGM_STDDEV\"     |\"W_FGA_MEDIAN\"  |\"W_CONF_CAA\"  |\"L_CONF_BIG_SOUTH\"  |\"L_CONF_SEC\"  |\"W_AST_STDDEV\"      |\"W_DR_STDDEV\"       |\"W_CONF_SOUTHLAND\"  |\"W_CONF_PATRIOT\"  |\"L_CONF_A_SUN\"  |\"W_FTM_STDDEV\"      |\"W_CONF_SUN_BELT\"  |\"L_FTA_MEDIAN\"  |\"W_OR_MEDIAN\"  |\"W_CONF_CUSA\"  |\"W_CONF_BIG_EAST\"  |\"L_SCORE_MEAN\"  |\"W_FGM3_STDDEV\"     |\"W_CONF_SEC\"  |\"L_CONF_SUMMIT\"  |\"L_FGM3_MEAN\"  |\"W_CONF_WCC\"  |\"L_CONF_WCC\"  |\"L_CONF_MVC\"  |\"L_FTA_MEAN\"  |\"L_CONF_SUN_BELT\"  |\"W_CONF_MAC\"  |\"ROUND_NUMBER\"  |\"L_FGM_MEDIAN\"  |\"W_BLK_MEAN\"  |\"L_FGA3_STDDEV\"    |\"L_CONF_MWC\"  |\"W_W2COLUMN_STDDEV\"  |\"L_CONF_PAC_TEN\"  |\"W_FGM3_MEAN\"  |\"WTEAMID\"  |\"L_FGM3_STDDEV\"     |\"W_CONF_IVY\"  |\"L_CONF_SWAC\"  |\"W_FGM3_MEDIAN\"  |\"L_FGM_MEAN\"  |\"W_AST_MEDIAN\"  |\"L_AST_MEAN\"  |\"L_FGA_STDDEV\"      |\"L_CONF_SOUTHERN\"  |\"L_CONF_PATRIOT\"  |\"WIN_INDICATOR\"  |\"W_CONF_BIG_TEN\"  |\"W_CONF_OVC\"  |\"W_BLK_STDDEV\"      |\"L_BLK_STDDEV\"      |\"W_CONF_PAC_TEN\"  |\"L_W1COLUMN_MEDIAN\"  |\"W_CONF_A_TEN\"  |\"W_W1COLUMN_MEAN\"  |\"W_CONF_SOUTHERN\"  |\"L_STL_MEDIAN\"  |\"L_OR_MEDIAN\"  |\"L_CONF_WAC\"  |\"W_AST_MEAN\"  |\"L_SEED\"  |\"L_BLK_MEDIAN\"  |\"W_OR_STDDEV\"       |\"L_OR_STDDEV\"       |\"L_SCORE_STDDEV\"    |\"L_CONF_NEC\"  |\"W_CONF_HORIZON\"  |\"L_CONF_PAC_TWELVE\"  |\"W_CONF_BIG_SOUTH\"  |\"W_WINMARGINMEAN\"  |\"W_CONF_NEC\"  |\"L_FTM_MEDIAN\"  |\"W_FTM_MEDIAN\"  |\"L_CONF_MAAC\"  |\"L_SCORE_MEDIAN\"  |\"L_BLK_MEAN\"  |\"W_FGA3_STDDEV\"    |\"W_CONF_BIG_TWELVE\"  |\"W_STL_STDDEV\"      |\"W_SCORE_MEDIAN\"  |\"L_CONF_MAC\"  |\"L_STL_STDDEV\"      |\"W_SCORE_STDDEV\"    |\"W_SCORE_MEAN\"  |\"W_CONF_PAC_TWELVE\"  |\"W_STL_MEDIAN\"  |\"L_CONF_CUSA\"  |\"W_CONF_AEC\"  |\"W_CONF_BIG_SKY\"  |\"W_FTA_MEDIAN\"  |\"W_REGION\"  |\"W_FGM_MEAN\"  |\"W_W1COLUMN_MEDIAN\"  |\"W_FTA_STDDEV\"      |\"W_SEED\"  |\"L_CONF_SOUTHLAND\"  |\"W_CONF_WAC\"  |\"W_CONF_MID_CONT\"  |\"W_FGA_MEAN\"  |\"L_FTA_STDDEV\"      |\"L_CONF_CAA\"  |\"W_FGM_MEDIAN\"  |\"L_CONF_BIG_TWELVE\"  |\"L_TO_STDDEV\"       |\"L_STL_MEAN\"  |\"L_LOSEMARGINMEDIAN\"  |\"W_CONF_ACC\"  |\"L_W2COLUMN_MEAN\"  |\"L_CONF_MID_CONT\"  |\"W_BLK_MEDIAN\"  |\"L_FGA3_MEDIAN\"  |\"L_LOSEMARGINMEAN\"  |\"L_PF_MEAN\"  |\"L_FTM_STDDEV\"      |\"SEASON\"  |\"L_PF_STDDEV\"       |\"L_WINMARGINMEAN\"  |\"LSCORE\"  |\"W_WINMARGINMEDIAN\"  |\"W_FGA3_MEAN\"  |\"L_TO_MEAN\"  |\"W_FTA_MEAN\"  |\"W_CONF_MAAC\"  |\"L_CONF_MEAC\"  |\"L_FGA_MEDIAN\"  |\"L_CONF_OVC\"  |\"W_W2COLUMN_MEAN\"  |\"W_CONF_A_SUN\"  |\"WSCORE\"  |\"L_WINMARGINMEDIAN\"  |\"W_OR_MEAN\"  |\"W_PF_MEAN\"  |\"L_CONF_A_TEN\"  |\"L_CONF_BIG_WEST\"  |\"W_CONF_SUMMIT\"  |\"L_W1COLUMN_MEAN\"  |\"L_REGION\"  |\"ROUND\"  |\"W_CONF_BIG_WEST\"  |\"W_W2COLUMN_MEDIAN\"  |\"W_DR_MEAN\"  |\"W_FGM_STDDEV\"     |\"W_PF_MEDIAN\"  |\"W_CONF_MVC\"  |\"L_CONF_ACC\"  |\"L_FGA_MEAN\"  |\"L_DR_MEDIAN\"  |\"LTEAMID\"  |\"L_CONF_HORIZON\"  |\"predict_proba_0\"    |\"predict_proba_1\"    |\n",
      "-----------------------------------------------------------------------------------------------------------------------------------------------------------------------------------------------------------------------------------------------------------------------------------------------------------------------------------------------------------------------------------------------------------------------------------------------------------------------------------------------------------------------------------------------------------------------------------------------------------------------------------------------------------------------------------------------------------------------------------------------------------------------------------------------------------------------------------------------------------------------------------------------------------------------------------------------------------------------------------------------------------------------------------------------------------------------------------------------------------------------------------------------------------------------------------------------------------------------------------------------------------------------------------------------------------------------------------------------------------------------------------------------------------------------------------------------------------------------------------------------------------------------------------------------------------------------------------------------------------------------------------------------------------------------------------------------------------------------------------------------------------------------------------------------------------------------------------------------------------------------------------------------------------------------------------------------------------------------------------------------------------------------------------------------------------------------------------------------------------------------------------------------------------------------------------------------------------------------------------------------------------------------------------------------------------------------------------------------------------------------------------------------------------------------------------------------------------------------------------------------------------------------------------------------------------------------------------------------------------------------------------------------------------------------------------------------------------------------------------------------------------------------------------------------------------------------------------------------------------------------------------------------------------------------------------------------------------------------------------------------------------------------------------------------------------------------------------------------------------------------------------------------------------------------------------------------------------------------------------------------------------------------------------------------------------------------------------------------------------------------------------------\n",
      "|7.7975083199699124   |12.0           |0.0            |18.0             |24.0           |3.512154182264782   |14.0            |8.750432903576828    |14.30303      |66.0                 |10.0           |0.0                |0.0               |25.606061      |8.757576     |0.0           |9.0              |5.804256541539149   |6.0                   |12.090909    |24.454545    |8.344273125922951    |0.0           |5.446711576722234   |0.0               |4.5695384887316575  |16.0           |8.848485      |9.5                 |0.0            |4.1514874442782554  |12.69697      |0.0           |3.245042834848255  |56.0            |0.0           |0.0                 |0.0           |3.7951823408105176  |5.123105698694885   |0.0                 |0.0               |0.0             |5.364727672491867   |0.0                |19.0            |11.0           |0.0            |0.0                |76.121212       |2.315134553325141   |1.0           |0.0              |9.212121       |0.0           |0.0           |0.0           |18.787879     |0.0                |0.0           |1               |26.0            |3.424242      |6.533277278671096  |0.0           |8.200956163765296    |0.0               |5.212121       |1280       |3.78943900861328    |0.0           |0.0            |6.0              |26.30303      |15.0            |14.333333     |6.159034989346951   |0.0                |0.0               |0                |0.0               |0.0           |2.4242305995923736  |2.4614451039988685  |0.0               |79.0                 |0.0             |69.363636          |0.0                |5.0             |7.0            |0.0           |14.181818     |11        |4.0             |3.8864079816715074  |4.054552256415004   |9.456339037915255   |0.0           |0.0               |0.0                  |0.0                 |13.142857          |0.0           |14.0            |13.0            |0.0            |76.0              |4.060606      |5.963589020044893  |0.0                  |3.123711894525486   |67.0              |0.0           |2.2792709360670576  |8.740579328625763   |65.909091       |0.0                  |9.0             |0.0            |0.0           |0.0               |19.0            |Y           |24.0          |69.0                 |6.841135578250149   |11        |0.0                 |0.0           |0.0                |56.757576     |5.6222636010774165  |0.0           |24.0            |0.0                  |3.8768934728723203  |5.151515      |7.0                   |0.0           |66.848485          |0.0                |3.0             |25.0             |10.909091           |16.242424    |3.9566782785563954  |2023      |4.183526502844221   |13.909091          |60        |10.0                 |19.575758      |10.69697     |19.636364     |0.0            |0.0            |58.0            |0.0           |57.545455          |0.0             |59        |13.5                 |11.666667    |15.121212    |0.0             |0.0                |0.0              |79.757576          |Y           |0        |0.0                |55.0                 |23.393939    |4.115519408288582  |15.0           |0.0           |1.0           |58.060606     |25.0           |1338       |0.0               |0.779022216796875    |0.2209777981042862   |\n",
      "|9.3614400067511      |10.0           |0.0            |21.0             |24.0           |3.0652404473385118  |14.0            |7.062996389635209    |12.823529     |62.0                 |11.0           |0.0                |0.0               |23.911765      |9.352941     |0.0           |7.0              |6.773445947226566   |9.0                   |10.064516    |23.705882    |8.880319307322232    |0.0           |4.690795774706036   |0.0               |4.814935202056202   |18.0           |6.064516      |8.8                 |0.0            |4.442221628869951   |17.0          |1.0           |4.12677876799811   |53.0            |0.0           |0.0                 |0.0           |3.820431781880158   |4.5032843569999     |0.0                 |0.0               |0.0             |6.011100814326774   |0.0                |18.0            |6.0            |0.0            |0.0                |70.323529       |2.093512837314355   |0.0           |0.0              |7.5            |0.0           |0.0           |0.0           |18.617647     |0.0                |0.0           |1               |24.0            |3.096774      |4.870241369788565  |0.0           |11.78937008495365    |0.0               |6.870968       |1305       |2.956759036512783   |0.0           |0.0            |7.0              |25.0          |14.0            |14.235294     |7.316379705838127   |0.0                |0.0               |0                |0.0               |0.0           |1.9035902920534136  |2.543209389727869   |0.0               |74.0                 |0.0             |74.645161          |0.0                |7.0             |8.0            |0.0           |13.935484     |11        |4.0             |2.4813280718196054  |4.205929148238234   |9.60656525507426    |0.0           |0.0               |1.0                  |0.0                 |10.857143          |0.0           |12.0            |16.0            |0.0            |68.5              |4.676471      |4.570828480702377  |0.0                  |2.619611803302161   |72.0              |0.0           |2.5973041793367213  |9.951279164007007   |71.806452       |0.0                  |6.0             |0.0            |0.0           |0.0               |22.0            |Z           |23.967742     |75.0                 |7.4064778403773     |11        |0.0                 |0.0           |0.0                |54.290323     |7.663430302416797   |0.0           |23.0            |0.0                  |3.1740929412983485  |7.264706      |8.5                   |0.0           |63.588235          |0.0                |3.0             |24.0             |11.666667           |18.529412    |5.276997441727635   |2023      |3.1065453481319083  |10.409091          |98        |11.0                 |20.322581      |11.529412    |21.451613     |0.0            |0.0            |62.0            |0.0           |64.451613          |0.0             |73        |7.0                  |6.096774     |18.0         |0.0             |0.0                |0.0              |74.441176          |Z           |0        |0.0                |66.0                 |24.290323    |4.143137820541335  |18.0           |0.0           |0.0           |60.470588     |23.5           |1113       |0.0               |0.284212589263916    |0.715787410736084    |\n",
      "|11.672942045602728   |13.0           |0.0            |23.0             |24.0           |3.544628894538891   |15.0            |10.664036524693639   |16.586207     |69.0                 |12.0           |0.0                |0.0               |21.034483      |9.793103     |0.0           |7.0              |7.854259608645489   |7.0                   |12.424242    |22.724138    |10.735856789283284   |0.0           |4.379193989765697   |0.0               |4.90551108448447    |19.0           |6.666667      |10.9375             |0.0            |4.0936018370134635  |16.636364     |0.0           |4.435914787278945  |59.0            |0.0           |0.0                 |0.0           |4.0776088581422325  |4.78772889792227    |0.0                 |0.0               |0.0             |6.208956111940235   |0.0                |21.0            |7.0            |0.0            |0.0                |78.275862       |2.66323168350033    |0.0           |0.0              |7.758621       |0.0           |0.0           |0.0           |20.724138     |0.0                |0.0           |1               |27.0            |3.181818      |5.672507382101852  |0.0           |11.626853056609944   |0.0               |8.030303       |1369       |3.0432029179796736  |0.0           |0.0            |8.0              |26.965517     |14.0            |15.034483     |6.466282394080852   |0.0                |0.0               |0                |0.0               |1.0           |1.9757046844100967  |1.1838403608595207  |0.0               |83.0                 |0.0             |82.515152          |0.0                |8.0             |9.0            |0.0           |13.424242     |16        |2.0             |3.2192601634537086  |3.244548350695363   |13.365458016843268  |0.0           |0.0               |0.0                  |0.0                 |9.352941           |0.0           |16.0            |16.0            |0.0            |80.0              |1.517241      |5.295974697824755  |0.0                  |2.7233558342603708  |78.0              |0.0           |2.8170837758220824  |12.180305743289042  |77.212121       |0.0                  |6.0             |0.0            |0.0           |0.0               |21.0            |X           |26.272727     |84.0                 |7.650386199401963   |16        |1.0                 |0.0           |0.0                |60.575758     |8.51425927488704    |0.0           |26.0            |0.0                  |3.1971354366057123  |8.310345      |8.5                   |0.0           |68.689655          |0.0                |3.0             |19.0             |12.3                |19.482759    |7.2973441744240075  |2023      |4.461107261656012   |14.631579          |75        |7.0                  |24.121212      |12.310345    |23.181818     |0.0            |0.0            |60.0            |0.0           |72.393939          |0.0             |71        |11.0                 |7.636364     |21.484848    |0.0             |0.0                |0.0              |82.517241          |X           |0        |0.0                |71.0                 |23.878788    |5.094560334317379  |21.0           |0.0           |0.0           |60.206897     |22.0           |1394       |0.0               |0.7421507835388184   |0.25784918665885925  |\n",
      "|8.344273125922951    |10.0           |0.0            |25.0             |25.0           |3.8768934728723203  |15.0            |8.200956163765296    |12.69697      |55.0                 |12.0           |0.0                |0.0               |19.575758      |11.666667    |0.0           |6.0              |6.159034989346951   |7.0                   |10.69697     |23.393939    |7.7975083199699124   |0.0           |3.7951823408105176  |0.0               |5.123105698694885   |15.0           |5.151515      |10.909091           |0.0            |4.183526502844221   |14.30303      |0.0           |4.115519408288582  |58.0            |0.0           |0.0                 |1.0           |5.446711576722234   |4.5695384887316575  |0.0                 |0.0               |0.0             |3.9566782785563954  |0.0                |19.0            |7.0            |0.0            |0.0                |65.909091       |3.78943900861328    |0.0           |0.0              |5.212121       |0.0           |0.0           |0.0           |19.636364     |0.0                |0.0           |1               |24.0            |4.060606      |5.963589020044893  |0.0           |8.750432903576828    |0.0               |9.212121       |1338       |2.315134553325141   |0.0           |0.0            |9.0              |24.0          |14.0            |14.181818     |5.804256541539149   |0.0                |0.0               |1                |0.0               |0.0           |2.4614451039988685  |2.4242305995923736  |0.0               |69.0                 |0.0             |79.757576          |0.0                |9.0             |11.0           |0.0           |14.333333     |11        |3.0             |4.054552256415004   |3.8864079816715074  |8.740579328625763   |0.0           |0.0               |0.0                  |0.0                 |13.909091          |0.0           |13.0            |14.0            |0.0            |67.0              |3.424242      |6.533277278671096  |0.0                  |2.2792709360670576  |76.0              |0.0           |3.123711894525486   |9.456339037915255   |76.121212       |0.0                  |5.0             |0.0            |0.0           |0.0               |19.0            |Y           |26.30303      |79.0                 |5.6222636010774165  |11        |0.0                 |0.0           |0.0                |58.060606     |6.841135578250149   |0.0           |26.0            |0.0                  |3.512154182264782   |8.848485      |6.0                   |1.0           |57.545455          |0.0                |4.0             |18.0             |9.5                 |15.121212    |5.364727672491867   |2023      |4.1514874442782554  |13.142857          |59        |13.5                 |25.606061      |12.090909    |18.787879     |0.0            |0.0            |56.0            |0.0           |66.848485          |0.0             |60        |10.0                 |8.757576     |16.242424    |0.0             |0.0                |0.0              |69.363636          |Y           |0        |0.0                |66.0                 |24.454545    |3.245042834848255  |16.0           |0.0           |0.0           |56.757576     |24.0           |1280       |0.0               |0.19010937213897705  |0.809890627861023    |\n",
      "|8.880319307322232    |11.0           |0.0            |24.0             |23.5           |3.1740929412983485  |14.0            |11.78937008495365    |17.0          |66.0                 |10.0           |0.0                |0.0               |20.322581      |6.096774     |0.0           |7.0              |7.316379705838127   |8.5                   |11.529412    |24.290323    |9.3614400067511      |0.0           |3.820431781880158   |0.0               |4.5032843569999     |18.0           |7.264706      |11.666667           |0.0            |3.1065453481319083  |12.823529     |0.0           |4.143137820541335  |62.0            |0.0           |0.0                 |0.0           |4.690795774706036   |4.814935202056202   |0.0                 |0.0               |0.0             |5.276997441727635   |0.0                |22.0            |8.0            |0.0            |0.0                |71.806452       |2.956759036512783   |0.0           |0.0              |6.870968       |0.0           |0.0           |0.0           |21.451613     |0.0                |0.0           |1               |23.0            |4.676471      |4.570828480702377  |1.0           |7.062996389635209    |0.0               |7.5            |1113       |2.093512837314355   |0.0           |0.0            |7.0              |23.967742     |14.0            |13.935484     |6.773445947226566   |0.0                |0.0               |1                |0.0               |0.0           |2.543209389727869   |1.9035902920534136  |0.0               |75.0                 |0.0             |74.441176          |0.0                |6.0             |6.0            |0.0           |14.235294     |11        |3.0             |4.205929148238234   |2.4813280718196054  |9.951279164007007   |0.0           |0.0               |0.0                  |0.0                 |10.409091          |0.0           |16.0            |12.0            |0.0            |72.0              |3.096774      |4.870241369788565  |0.0                  |2.5973041793367213  |68.5              |0.0           |2.619611803302161   |9.60656525507426    |70.323529       |1.0                  |7.0             |0.0            |0.0           |0.0               |18.0            |Z           |25.0          |74.0                 |7.663430302416797   |11        |0.0                 |0.0           |0.0                |60.470588     |7.4064778403773     |0.0           |24.0            |0.0                  |3.0652404473385118  |6.064516      |9.0                   |0.0           |64.451613          |0.0                |4.0             |21.0             |8.8                 |18.0         |6.011100814326774   |2023      |4.442221628869951   |10.857143          |73        |7.0                  |23.911765      |10.064516    |18.617647     |0.0            |0.0            |53.0            |0.0           |63.588235          |0.0             |98        |11.0                 |9.352941     |18.529412    |0.0             |0.0                |0.0              |74.645161          |Z           |0        |0.0                |62.0                 |23.705882    |4.12677876799811   |18.0           |0.0           |0.0           |54.290323     |24.0           |1305       |0.0               |0.1202385425567627   |0.8797614574432373   |\n",
      "|10.735856789283284   |12.0           |0.0            |19.0             |22.0           |3.1971354366057123  |14.0            |11.626853056609944   |16.636364     |71.0                 |13.0           |0.0                |0.0               |24.121212      |7.636364     |0.0           |8.0              |6.466282394080852   |8.5                   |12.310345    |23.878788    |11.672942045602728   |0.0           |4.0776088581422325  |0.0               |4.78772889792227    |21.0           |8.310345      |12.3                |0.0            |4.461107261656012   |16.586207     |0.0           |5.094560334317379  |60.0            |0.0           |0.0                 |0.0           |4.379193989765697   |4.90551108448447    |1.0                 |0.0               |0.0             |7.2973441744240075  |0.0                |21.0            |9.0            |0.0            |0.0                |77.212121       |3.0432029179796736  |0.0           |0.0              |8.030303       |0.0           |0.0           |0.0           |23.181818     |0.0                |0.0           |1               |26.0            |1.517241      |5.295974697824755  |0.0           |10.664036524693639   |0.0               |7.758621       |1394       |2.66323168350033    |0.0           |0.0            |7.0              |26.272727     |15.0            |13.424242     |7.854259608645489   |0.0                |0.0               |1                |0.0               |0.0           |1.1838403608595207  |1.9757046844100967  |0.0               |84.0                 |0.0             |82.517241          |0.0                |6.0             |7.0            |0.0           |15.034483     |16        |3.0             |3.244548350695363   |3.2192601634537086  |12.180305743289042  |0.0           |0.0               |0.0                  |0.0                 |14.631579          |0.0           |16.0            |16.0            |0.0            |78.0              |3.181818      |5.672507382101852  |0.0                  |2.8170837758220824  |80.0              |0.0           |2.7233558342603708  |13.365458016843268  |78.275862       |0.0                  |8.0             |0.0            |0.0           |0.0               |21.0            |X           |26.965517     |83.0                 |8.51425927488704    |16        |0.0                 |0.0           |0.0                |60.206897     |7.650386199401963   |0.0           |27.0            |0.0                  |3.544628894538891   |6.666667      |7.0                   |0.0           |72.393939          |0.0                |2.0             |23.0             |10.9375             |21.484848    |6.208956111940235   |2023      |4.0936018370134635  |9.352941           |71        |11.0                 |21.034483      |12.424242    |20.724138     |0.0            |0.0            |59.0            |1.0           |68.689655          |0.0             |75        |7.0                  |9.793103     |19.482759    |0.0             |0.0                |0.0              |82.515152          |X           |0        |0.0                |69.0                 |22.724138    |4.435914787278945  |19.0           |0.0           |0.0           |60.575758     |24.0           |1369       |0.0               |0.7241482734680176   |0.2758517563343048   |\n",
      "|8.13538419498428     |14.5           |1.0            |16.5             |24.5           |4.288017840447962   |13.5            |11.56533855967909    |12.875        |73.0                 |10.5           |0.0                |0.0               |22.78125       |9.875        |0.0           |7.5              |5.982501399916259   |11.0                  |14.0         |20.625       |9.583198943985249    |0.0           |4.518331882453966   |0.0               |3.924694383006147   |18.5           |6.4375        |12.25               |0.0            |3.5921060674762932  |13.5625       |0.0           |4.132751746717918  |58.0            |0.0           |0.0                 |0.0           |3.9267486550580237  |5.303300858899107   |0.0                 |0.0               |0.0             |5.111262075065218   |0.0                |18.0            |8.5            |0.0            |0.0                |76.28125        |2.016064483095717   |0.0           |0.0              |7.84375        |0.0           |0.0           |0.0           |17.1875       |0.0                |0.0           |1               |28.0            |3.0625        |4.750106104078097  |0.0           |8.969482315050294    |0.0               |4.75           |1411       |3.0702460813426664  |0.0           |0.0            |4.5              |27.78125      |10.0            |14.3125       |6.5984327684685855  |0.0                |0.0               |0                |0.0               |0.0           |2.1393019889674294  |1.3854078821776639  |0.0               |79.5                 |0.0             |75.59375           |0.0                |8.0             |10.0           |0.0           |11.0          |16        |2.0             |3.2489142801865363  |3.498847667447098   |11.441955558382492  |1.0           |0.0               |0.0                  |0.0                 |7.166667           |0.0           |13.5            |12.5            |0.0            |76.5              |1.875         |4.165429869773346  |0.0                  |2.839099152900441   |69.0              |0.0           |2.638884233914023   |9.61161094718258    |67.9375         |0.0                  |6.0             |0.0            |0.0           |0.0               |19.5            |W           |24.8125       |76.5                 |6.992795864316361   |16        |0.0                 |0.0           |0.0                |58.875        |6.591477907116127   |0.0           |25.0            |0.0                  |3.2139752643727673  |7.4375        |8.0                   |0.0           |71.28125           |0.0                |3.0             |22.5             |10.0                |19.125       |5.350610432464692   |2023      |3.544646103632914   |9.411765           |84        |5.5                  |16.5625        |11.15625     |20.5625       |0.0            |0.0            |62.0            |0.0           |65.25              |0.0             |61        |8.0                  |9.34375      |19.0         |0.0             |0.0                |0.0              |80.96875           |W           |0        |0.0                |65.5                 |23.4375      |3.971166201508066  |20.0           |0.0           |0.0           |61.59375      |21.0           |1192       |0.0               |0.9454413056373596   |0.05455866828560829  |\n",
      "|9.583198943985249    |10.5           |0.0            |22.5             |21.0           |3.2139752643727673  |10.0            |8.969482315050294    |13.5625       |65.5                 |14.5           |0.0                |0.0               |16.5625        |9.34375      |0.0           |4.5              |6.5984327684685855  |8.0                   |11.15625     |23.4375      |8.13538419498428     |0.0           |3.9267486550580237  |0.0               |5.303300858899107   |20.0           |7.4375        |10.0                |0.0            |3.544646103632914   |12.875        |0.0           |3.971166201508066  |62.0            |0.0           |0.0                 |0.0           |4.518331882453966   |3.924694383006147   |0.0                 |0.0               |0.0             |5.350610432464692   |0.0                |19.5            |10.0           |0.0            |0.0                |67.9375         |3.0702460813426664  |0.0           |0.0              |4.75           |0.0           |0.0           |0.0           |20.5625       |0.0                |0.0           |1               |25.0            |1.875         |4.165429869773346  |0.0           |11.56533855967909    |0.0               |7.84375        |1192       |2.016064483095717   |0.0           |1.0            |7.5              |24.8125       |13.5            |11.0          |5.982501399916259   |0.0                |0.0               |1                |0.0               |0.0           |1.3854078821776639  |2.1393019889674294  |0.0               |76.5                 |0.0             |80.96875           |0.0                |6.0             |8.5            |0.0           |14.3125       |16        |3.0             |3.498847667447098   |3.2489142801865363  |9.61161094718258    |0.0           |0.0               |0.0                  |0.0                 |9.411765           |1.0           |12.5            |13.5            |0.0            |69.0              |3.0625        |4.750106104078097  |0.0                  |2.638884233914023   |76.5              |0.0           |2.839099152900441   |11.441955558382492  |76.28125        |0.0                  |8.0             |0.0            |0.0           |0.0               |18.0            |W           |27.78125      |79.5                 |6.591477907116127   |16        |0.0                 |0.0           |0.0                |61.59375      |6.992795864316361   |0.0           |28.0            |0.0                  |4.288017840447962   |6.4375        |11.0                  |0.0           |65.25              |0.0                |2.0             |16.5             |12.25               |19.0         |5.111262075065218   |2023      |3.5921060674762932  |7.166667           |61        |8.0                  |22.78125       |14.0         |17.1875       |0.0            |0.0            |58.0            |0.0           |71.28125           |0.0             |84        |5.5                  |9.875        |19.125       |0.0             |0.0                |0.0              |75.59375           |W           |0        |0.0                |73.0                 |20.625       |4.132751746717918  |18.5           |0.0           |0.0           |58.875        |24.5           |1411       |0.0               |0.3663451671600342   |0.6336548328399658   |\n",
      "-----------------------------------------------------------------------------------------------------------------------------------------------------------------------------------------------------------------------------------------------------------------------------------------------------------------------------------------------------------------------------------------------------------------------------------------------------------------------------------------------------------------------------------------------------------------------------------------------------------------------------------------------------------------------------------------------------------------------------------------------------------------------------------------------------------------------------------------------------------------------------------------------------------------------------------------------------------------------------------------------------------------------------------------------------------------------------------------------------------------------------------------------------------------------------------------------------------------------------------------------------------------------------------------------------------------------------------------------------------------------------------------------------------------------------------------------------------------------------------------------------------------------------------------------------------------------------------------------------------------------------------------------------------------------------------------------------------------------------------------------------------------------------------------------------------------------------------------------------------------------------------------------------------------------------------------------------------------------------------------------------------------------------------------------------------------------------------------------------------------------------------------------------------------------------------------------------------------------------------------------------------------------------------------------------------------------------------------------------------------------------------------------------------------------------------------------------------------------------------------------------------------------------------------------------------------------------------------------------------------------------------------------------------------------------------------------------------------------------------------------------------------------------------------------------------------------------------------------------------------------------------------------------------------------------------------------------------------------------------------------------------------------------------------------------------------------------------------------------------------------------------------------------------------------------------------------------------------------------------------------------------------------------------------------------------------------------------------------------------------------------------------\n",
      "\n"
     ]
    }
   ],
   "source": [
    "result.show()"
   ]
  },
  {
   "cell_type": "code",
   "execution_count": 48,
   "metadata": {},
   "outputs": [
    {
     "name": "stdout",
     "output_type": "stream",
     "text": [
      "---------------------------------------------------------------------\n",
      "|\"WTEAMID\"  |\"LTEAMID\"  |\"predict_proba_1\"    |\"predict_proba_0\"    |\n",
      "---------------------------------------------------------------------\n",
      "|1280       |1338       |0.2209777981042862   |0.779022216796875    |\n",
      "|1305       |1113       |0.715787410736084    |0.284212589263916    |\n",
      "|1369       |1394       |0.25784918665885925  |0.7421507835388184   |\n",
      "|1338       |1280       |0.809890627861023    |0.19010937213897705  |\n",
      "|1113       |1305       |0.8797614574432373   |0.1202385425567627   |\n",
      "|1394       |1369       |0.2758517563343048   |0.7241482734680176   |\n",
      "|1411       |1192       |0.05455866828560829  |0.9454413056373596   |\n",
      "|1192       |1411       |0.6336548328399658   |0.3663451671600342   |\n",
      "---------------------------------------------------------------------\n",
      "\n"
     ]
    }
   ],
   "source": [
    "result.select('wteamid','lteamid','\"predict_proba_1\"','\"predict_proba_0\"').show()"
   ]
  },
  {
   "cell_type": "code",
   "execution_count": 33,
   "metadata": {},
   "outputs": [
    {
     "name": "stdout",
     "output_type": "stream",
     "text": [
      "-------------------------------------------------------------------------------------------------------------------------------------------------------------\n",
      "|\"SEASON\"  |\"LTEAMID\"  |\"WTEAMID\"  |\"LTEAM_NAME\"    |\"L_SEED\"  |\"L_REGION\"  |\"WTEAM_NAME\"  |\"W_SEED\"  |\"W_REGION\"  |\"WIN_INDICATOR\"  |\"PRED_WIN_INDICATOR\"  |\n",
      "-------------------------------------------------------------------------------------------------------------------------------------------------------------\n",
      "|2023      |1305       |1113       |Nevada          |11        |Z           |Arizona St    |11        |Z           |1                |1.0                   |\n",
      "|2023      |1411       |1192       |TX Southern     |16        |W           |F Dickinson   |16        |W           |1                |1.0                   |\n",
      "|2023      |1113       |1305       |Arizona St      |11        |Z           |Nevada        |11        |Z           |0                |1.0                   |\n",
      "|2023      |1280       |1338       |Mississippi St  |11        |Y           |Pittsburgh    |11        |Y           |1                |1.0                   |\n",
      "-------------------------------------------------------------------------------------------------------------------------------------------------------------\n",
      "\n"
     ]
    }
   ],
   "source": [
    "result = all_rounds.predict(test).filter(F.col('ROUND') == 0).filter(F.col(\"season\") == 2023).filter(F.col(\"PRED_WIN_INDICATOR\") == 1)\n",
    "\n",
    "teams = session.table('mteams')\n",
    "for col in teams.columns:\n",
    "    teams = teams.withColumnRenamed(col, col.upper())\n",
    "\n",
    "result = result.select('season','lteamID','l_seed','l_region','wteamid','w_seed','w_region','win_indicator','pred_win_indicator')\n",
    "\n",
    "res_teamsl = (\n",
    "    result.join(teams, result.col(\"LTEAMID\") == teams.col(\"TEAMID\"))\n",
    "    .with_column_renamed(\"teamname\", \"lteam_name\")\n",
    "    .drop(\"firstd1season\", \"lastd1season\")\n",
    ")\n",
    "res_teamsl = res_teamsl.cache_result()\n",
    "\n",
    "res_teams = (\n",
    "    res_teamsl.join(teams, result.col(\"WTEAMID\") == teams.col(\"TEAMID\"))\n",
    "    .with_column_renamed(\"teamname\", \"wteam_name\")\n",
    "    .select('season','lteamid','wteamid','LTEAM_NAME','l_seed','l_region','WTEAM_NAME','w_seed','w_region','WIN_INDICATOR','PRED_WIN_INDICATOR')\n",
    ")\n",
    "\n",
    "res_teams.sort(F.col(\"wteam_name\")).show()"
   ]
  },
  {
   "cell_type": "markdown",
   "metadata": {},
   "source": [
    "## Results round 1"
   ]
  },
  {
   "cell_type": "code",
   "execution_count": 36,
   "metadata": {},
   "outputs": [
    {
     "name": "stdout",
     "output_type": "stream",
     "text": [
      "The round of 32\n"
     ]
    },
    {
     "data": {
      "text/plain": [
       "32"
      ]
     },
     "execution_count": 36,
     "metadata": {},
     "output_type": "execute_result"
    }
   ],
   "source": [
    "result = all_rounds.predict(test.filter(F.col('ROUND') == 1)).filter(F.col(\"season\") == 2023).filter(F.col(\"PRED_WIN_INDICATOR\") == 1)\n",
    "\n",
    "teams = session.table('mteams')\n",
    "for col in teams.columns:\n",
    "    teams = teams.withColumnRenamed(col, col.upper())\n",
    "\n",
    "result = result.select('season','lteamID','l_seed','l_region','wteamid','w_seed','w_region','win_indicator','pred_win_indicator')\n",
    "\n",
    "res_teamsl = (\n",
    "    result.join(teams, result.col(\"LTEAMID\") == teams.col(\"TEAMID\"))\n",
    "    .with_column_renamed(\"teamname\", \"lteam_name\")\n",
    "    .drop(\"firstd1season\", \"lastd1season\")\n",
    ")\n",
    "res_teamsl = res_teamsl.cache_result()\n",
    "\n",
    "res_teams = (\n",
    "    res_teamsl.join(teams, result.col(\"WTEAMID\") == teams.col(\"TEAMID\"))\n",
    "    .with_column_renamed(\"teamname\", \"wteam_name\")\n",
    "    .select('season','lteamid','wteamid','LTEAM_NAME','l_seed','l_region','WTEAM_NAME','w_seed','w_region','WIN_INDICATOR','PRED_WIN_INDICATOR')\n",
    ")\n",
    "\n",
    "print('The round of 32')\n",
    "res_teams.sort(\"w_region\").count()"
   ]
  },
  {
   "cell_type": "code",
   "execution_count": 38,
   "metadata": {},
   "outputs": [
    {
     "name": "stdout",
     "output_type": "stream",
     "text": [
      "-----------------------------------------------------------------------------------------------------------------------------------------------------------------\n",
      "|\"SEASON\"  |\"LTEAMID\"  |\"WTEAMID\"  |\"LTEAM_NAME\"      |\"L_SEED\"  |\"L_REGION\"  |\"WTEAM_NAME\"    |\"W_SEED\"  |\"W_REGION\"  |\"WIN_INDICATOR\"  |\"PRED_WIN_INDICATOR\"  |\n",
      "-----------------------------------------------------------------------------------------------------------------------------------------------------------------\n",
      "|2023      |1436       |1266       |Vermont           |15        |W           |Marquette       |2         |W           |1                |1.0                   |\n",
      "|2023      |1344       |1246       |Providence        |11        |W           |Kentucky        |6         |W           |1                |1.0                   |\n",
      "|2023      |1192       |1345       |F Dickinson       |16        |W           |Purdue          |1         |W           |0                |1.0                   |\n",
      "|2023      |1418       |1397       |Louisiana         |13        |W           |Tennessee       |4         |W           |1                |1.0                   |\n",
      "|2023      |1272       |1194       |Memphis           |8         |W           |FL Atlantic     |9         |W           |1                |1.0                   |\n",
      "|2023      |1286       |1243       |Montana St        |14        |W           |Kansas St       |3         |W           |1                |1.0                   |\n",
      "|2023      |1331       |1181       |Oral Roberts      |12        |W           |Duke            |5         |W           |1                |1.0                   |\n",
      "|2023      |1277       |1425       |Michigan St       |7         |W           |USC             |10        |W           |0                |1.0                   |\n",
      "|2023      |1361       |1158       |San Diego St      |5         |X           |Col Charleston  |12        |X           |0                |1.0                   |\n",
      "|2023      |1364       |1124       |UC Santa Barbara  |14        |X           |Baylor          |3         |X           |1                |1.0                   |\n",
      "|2023      |1452       |1268       |West Virginia     |9         |X           |Maryland        |8         |X           |1                |1.0                   |\n",
      "|2023      |1438       |1202       |Virginia          |4         |X           |Furman          |13        |X           |1                |1.0                   |\n",
      "|2023      |1202       |1438       |Furman            |13        |X           |Virginia        |4         |X           |0                |1.0                   |\n",
      "|2023      |1429       |1281       |Utah St           |10        |X           |Missouri        |7         |X           |1                |1.0                   |\n",
      "|2023      |1343       |1112       |Princeton         |15        |X           |Arizona         |2         |X           |0                |1.0                   |\n",
      "|2023      |1394       |1104       |TAM C. Christi    |16        |X           |Alabama         |1         |X           |1                |1.0                   |\n",
      "|2023      |1301       |1166       |NC State          |11        |X           |Creighton       |6         |X           |1                |1.0                   |\n",
      "|2023      |1179       |1274       |Drake             |12        |Y           |Miami FL        |5         |Y           |1                |1.0                   |\n",
      "|2023      |1245       |1231       |Kent              |13        |Y           |Indiana         |4         |Y           |1                |1.0                   |\n",
      "|2023      |1336       |1401       |Penn St           |10        |Y           |Texas A&M       |7         |Y           |0                |1.0                   |\n",
      "|2023      |1159       |1400       |Colgate           |15        |Y           |Texas           |2         |Y           |1                |1.0                   |\n",
      "|2023      |1297       |1222       |N Kentucky        |16        |Y           |Houston         |1         |Y           |1                |1.0                   |\n",
      "|2023      |1338       |1235       |Pittsburgh        |11        |Y           |Iowa St         |6         |Y           |0                |1.0                   |\n",
      "|2023      |1244       |1462       |Kennesaw          |14        |Y           |Xavier          |3         |Y           |1                |1.0                   |\n",
      "|2023      |1233       |1163       |Iona              |13        |Z           |Connecticut     |4         |Z           |1                |1.0                   |\n",
      "|2023      |1113       |1395       |Arizona St        |11        |Z           |TCU             |6         |Z           |1                |1.0                   |\n",
      "|2023      |1421       |1417       |UNC Asheville     |15        |Z           |UCLA            |2         |Z           |1                |1.0                   |\n",
      "|2023      |1116       |1228       |Arkansas          |8         |Z           |Illinois        |9         |Z           |0                |1.0                   |\n",
      "|2023      |1224       |1242       |Howard            |16        |Z           |Kansas          |1         |Z           |1                |1.0                   |\n",
      "|2023      |1433       |1388       |VCU               |12        |Z           |St Mary's CA    |5         |Z           |1                |1.0                   |\n",
      "|2023      |1213       |1211       |Grand Canyon      |14        |Z           |Gonzaga         |3         |Z           |1                |1.0                   |\n",
      "|2023      |1129       |1321       |Boise St          |10        |Z           |Northwestern    |7         |Z           |1                |1.0                   |\n",
      "-----------------------------------------------------------------------------------------------------------------------------------------------------------------\n",
      "\n"
     ]
    }
   ],
   "source": [
    "res_teams.sort(\"w_region\").show(32)"
   ]
  },
  {
   "cell_type": "code",
   "execution_count": null,
   "metadata": {},
   "outputs": [],
   "source": [
    "result = grid_search.predict(test.filter(F.col(\"ROUND\") == 1))\n",
    "\n",
    "teams = session.table(\"mteams\")\n",
    "for col in teams.columns:\n",
    "    teams = teams.withColumnRenamed(col, col.upper())\n",
    "\n",
    "result = (\n",
    "    result.select(\n",
    "        \"season\",\n",
    "        \"lteamID\",\n",
    "        \"l_seed\",\n",
    "        \"l_region\",\n",
    "        \"wteamid\",\n",
    "        \"w_team_seed\",\n",
    "        \"w_team_region\",\n",
    "        \"win_indicator\",\n",
    "        \"pred_win_indicator\",\n",
    "    )\n",
    "    .filter(F.col(\"WIN_INDICATOR\") == 1)\n",
    "    .filter(F.col(\"season\") == 2023)\n",
    ")\n",
    "\n",
    "res_teamsl = (\n",
    "    result.join(teams, result.col(\"LTEAMID\") == teams.col(\"TEAMID\"))\n",
    "    .with_column_renamed(\"teamname\", \"lteam_name\")\n",
    "    .drop(\"firstd1season\", \"lastd1season\")\n",
    ")\n",
    "res_teamsl = res_teamsl.cache_result()\n",
    "\n",
    "round_2_winners = (\n",
    "    res_teamsl.join(teams, result.col(\"WTEAMID\") == teams.col(\"TEAMID\"))\n",
    "    .with_column_renamed(\"teamname\", \"wteam_name\")\n",
    "    .select(\n",
    "        \"season\",\n",
    "        \"lteamid\",\n",
    "        \"wteamid\",\n",
    "        \"LTEAM_NAME\",\n",
    "        \"l_seed\",\n",
    "        \"l_region\",\n",
    "        \"WTEAM_NAME\",\n",
    "        \"w_team_seed\",\n",
    "        \"w_team_region\",\n",
    "        \"WIN_INDICATOR\",\n",
    "        \"PRED_WIN_INDICATOR\",\n",
    "    )\n",
    ")"
   ]
  },
  {
   "cell_type": "code",
   "execution_count": null,
   "metadata": {},
   "outputs": [],
   "source": [
    "round_1_winners.show()"
   ]
  },
  {
   "cell_type": "code",
   "execution_count": null,
   "metadata": {},
   "outputs": [],
   "source": [
    "from snowflake.snowpark.functions import when, lit\n",
    "\n",
    "round_1_winners = round_1_winners.with_column(\n",
    "    \"W_TEAM_ID\",\n",
    "    when((round_1_winners.WIN_INDICATOR == round_1_winners.PRED_WIN_INDICATOR), round_1_winners.wteamid)\n",
    "    .otherwise(round_1_winners.lteamID),\n",
    ").with_column(\n",
    "    \"L_TEAM_ID\",\n",
    "    when((round_1_winners.WIN_INDICATOR != round_1_winners.PRED_WIN_INDICATOR), round_1_winners.wteamid)\n",
    "    .otherwise(round_1_winners.lteamID),\n",
    ").with_column(\n",
    "    \"W_TEAM_NAME\",\n",
    "    when((round_1_winners.WIN_INDICATOR == round_1_winners.PRED_WIN_INDICATOR), round_1_winners.wteam_name)\n",
    "    .otherwise(round_1_winners.lteam_name),\n",
    ").with_column(\n",
    "    \"L_TEAM_NAME\",\n",
    "    when((round_1_winners.WIN_INDICATOR != round_1_winners.PRED_WIN_INDICATOR), round_1_winners.wteam_name)\n",
    "    .otherwise(round_1_winners.lteam_name),\n",
    ").with_column(\n",
    "    \"W_TEAM_SEED\",\n",
    "    when((round_1_winners.WIN_INDICATOR == round_1_winners.PRED_WIN_INDICATOR), round_1_winners.w_team_seed)\n",
    "    .otherwise(round_1_winners.l_seed),\n",
    ").with_column(\n",
    "    \"L_TEAM_SEED\",\n",
    "    when((round_1_winners.WIN_INDICATOR != round_1_winners.PRED_WIN_INDICATOR), round_1_winners.w_team_seed)\n",
    "    .otherwise(round_1_winners.l_seed)\n",
    ").with_column(\n",
    "    \"W_TEAM_REGION\",\n",
    "    when((round_1_winners.WIN_INDICATOR == round_1_winners.PRED_WIN_INDICATOR), round_1_winners.w_team_region)\n",
    "    .otherwise(round_1_winners.l_region)\n",
    ").with_column(\n",
    "    \"L_TEAM_REGION\",\n",
    "    when((round_1_winners.WIN_INDICATOR != round_1_winners.PRED_WIN_INDICATOR), round_1_winners.w_team_region)\n",
    "    .otherwise(round_1_winners.l_region)\n",
    ").select(\"W_TEAM_ID\",\"L_TEAM_ID\",\"W_TEAM_NAME\",\"L_TEAM_NAME\",\"W_TEAM_SEED\",\"L_TEAM_SEED\",\"W_TEAM_REGION\",\"L_TEAM_REGION\")"
   ]
  },
  {
   "cell_type": "code",
   "execution_count": null,
   "metadata": {},
   "outputs": [],
   "source": [
    "df1 = round_1_winners.cache_result()\n",
    "df2 = round_1_winners.cache_result()\n",
    "\n",
    "second_round_matchups = df1.join(\n",
    "    df2,\n",
    "    (df1.w_team_region == df2.w_team_region)\n",
    "    & (\n",
    "        (df1.w_team_seed == 1) & (df2.w_team_seed == 8)\n",
    "        | (df1.w_team_seed == 1) & (df2.w_team_seed == 9)\n",
    "        | (df1.w_team_seed == 16) & (df2.w_team_seed == 8)\n",
    "        | (df1.w_team_seed == 16) & (df2.w_team_seed == 9)\n",
    "        | (df1.w_team_seed == 4) & (df2.w_team_seed == 5)\n",
    "        | (df1.w_team_seed == 4) & (df2.w_team_seed == 12)\n",
    "        | (df1.w_team_seed == 13) & (df2.w_team_seed == 5)\n",
    "        | (df1.w_team_seed == 13) & (df2.w_team_seed == 12)\n",
    "        | (df1.w_team_seed == 3) & (df2.w_team_seed == 6)\n",
    "        | (df1.w_team_seed == 3) & (df2.w_team_seed == 11)\n",
    "        | (df1.w_team_seed == 14) & (df2.w_team_seed == 6)\n",
    "        | (df1.w_team_seed == 14) & (df2.w_team_seed == 11)\n",
    "        | (df1.w_team_seed == 2) & (df2.w_team_seed == 7)\n",
    "        | (df1.w_team_seed == 2) & (df2.w_team_seed == 10)\n",
    "        | (df1.w_team_seed == 15) & (df2.w_team_seed == 7)\n",
    "        | (df1.w_team_seed == 15) & (df2.w_team_seed == 10)\n",
    "    ),\n",
    "    \"inner\",\n",
    ").select(\n",
    "    (df1.W_TEAM_NAME).alias(\"Wteam_name\"),\n",
    "    (df1.W_TEAM_REGION).alias(\"w_team_region\"),\n",
    "    (df1.W_TEAM_ID).alias(\"WTeamID2\"),\n",
    "    (df2.W_TEAM_NAME).alias(\"lTeam_name\"),\n",
    "    (df2.W_TEAM_REGION).alias(\"l_region\"),\n",
    "    (df2.W_TEAM_ID).alias(\"lteamID2\"),\n",
    ")\n",
    "\n",
    "# Display the second round matchups\n",
    "second_round_matchups.sort(\"L_REGION\").show(20)"
   ]
  },
  {
   "cell_type": "code",
   "execution_count": null,
   "metadata": {},
   "outputs": [],
   "source": [
    "second_round = second_round_matchups.select('WTEAMID2','LTEAMID2')\n",
    "second_round.show(16)"
   ]
  },
  {
   "cell_type": "code",
   "execution_count": null,
   "metadata": {},
   "outputs": [],
   "source": [
    "test_2023 = test.filter(F.col(\"season\") == 2023).filter(F.col(\"round\") == 1)"
   ]
  },
  {
   "cell_type": "code",
   "execution_count": null,
   "metadata": {},
   "outputs": [],
   "source": [
    "l_team = [col for col in test_2023.columns if not col.startswith('W_')]\n",
    "l_team_data = test_2023[l_team].drop('WTEAMID','WSCORE','WIN_INDICATOR','ROUND','ROUND_NUMBER')\n",
    "\n",
    "w_team = [col for col in test_2023.columns if not col.startswith('L_')]\n",
    "w_team_data = test_2023[w_team].drop('lTEAMID','lSCORE','SEASON','ROUND_NUMBER','ROUND','WIN_INDICATOR')\n",
    "\n",
    "games_32 = second_round.join(l_team_data,l_team_data.lteamid == second_round.LTEAMID2).join(w_team_data,w_team_data.wteamid == second_round.WTEAMID2,\"inner\").drop('LTEAMID2','WTEAMID2')"
   ]
  },
  {
   "cell_type": "code",
   "execution_count": null,
   "metadata": {},
   "outputs": [],
   "source": [
    "games_32.count()"
   ]
  },
  {
   "cell_type": "code",
   "execution_count": null,
   "metadata": {},
   "outputs": [],
   "source": [
    "result = grid_search.predict(games_32)\n",
    "\n",
    "teams = session.table(\"mteams\")\n",
    "for col in teams.columns:\n",
    "    teams = teams.withColumnRenamed(col, col.upper())\n",
    "\n",
    "result = (\n",
    "    result.select(\n",
    "        \"season\",\n",
    "        \"lteamID\",\n",
    "        \"l_seed\",\n",
    "        \"l_region\",\n",
    "        \"wteamid\",\n",
    "        \"w_seed\",\n",
    "        \"w_region\",\n",
    "        \"pred_win_indicator\",\n",
    "    )\n",
    ")\n",
    "\n",
    "res_teamsl = (\n",
    "    result.join(teams, result.col(\"LTEAMID\") == teams.col(\"TEAMID\"))\n",
    "    .with_column_renamed(\"teamname\", \"lteam_name\")\n",
    "    .drop(\"firstd1season\", \"lastd1season\")\n",
    ")\n",
    "res_teamsl = res_teamsl.cache_result()\n",
    "\n",
    "round_2_winners = (\n",
    "    res_teamsl.join(teams, result.col(\"WTEAMID\") == teams.col(\"TEAMID\"))\n",
    "    .with_column_renamed(\"teamname\", \"wteam_name\")\n",
    "    .select(\n",
    "        \"season\",\n",
    "        \"lteamid\",\n",
    "        \"wteamid\",\n",
    "        \"LTEAM_NAME\",\n",
    "        \"l_seed\",\n",
    "        \"l_region\",\n",
    "        \"WTEAM_NAME\",\n",
    "        \"w_seed\",\n",
    "        \"w_region\",\n",
    "        \"pred_win_indicator\",\n",
    "    )\n",
    ")\n",
    "\n",
    "round_2_winners.sort(\"W_REGION\").show(16)"
   ]
  },
  {
   "cell_type": "code",
   "execution_count": null,
   "metadata": {},
   "outputs": [],
   "source": [
    "round_2_winners = round_2_winners.with_column(\n",
    "    \"W_TEAM_ID\",\n",
    "    when((round_2_winners.PRED_WIN_INDICATOR == 1), round_2_winners.wteamid)\n",
    "    .otherwise(round_2_winners.lteamID),\n",
    ").with_column(\n",
    "    \"L_TEAM_ID\",\n",
    "    when((round_2_winners.PRED_WIN_INDICATOR == 0), round_2_winners.wteamid)\n",
    "    .otherwise(round_2_winners.lteamID),\n",
    ").with_column(\n",
    "    \"W_TEAM_NAME\",\n",
    "    when((round_2_winners.PRED_WIN_INDICATOR == 1), round_2_winners.wteam_name)\n",
    "    .otherwise(round_2_winners.lteam_name),\n",
    ").with_column(\n",
    "    \"L_TEAM_NAME\",\n",
    "    when((round_2_winners.PRED_WIN_INDICATOR == 0), round_2_winners.wteam_name)\n",
    "    .otherwise(round_2_winners.lteam_name),\n",
    ").with_column(\n",
    "    \"W_TEAM_SEED\",\n",
    "    when((round_2_winners.PRED_WIN_INDICATOR == 1), round_2_winners.w_seed)\n",
    "    .otherwise(round_2_winners.l_seed),\n",
    ").with_column(\n",
    "    \"L_TEAM_SEED\",\n",
    "    when((round_2_winners.PRED_WIN_INDICATOR == 0), round_2_winners.w_seed)\n",
    "    .otherwise(round_2_winners.l_seed)\n",
    ").with_column(\n",
    "    \"W_TEAM_REGION\",\n",
    "    when((round_2_winners.PRED_WIN_INDICATOR == 1), round_2_winners.w_region)\n",
    "    .otherwise(round_2_winners.l_region)\n",
    ").with_column(\n",
    "    \"L_TEAM_REGION\",\n",
    "    when((round_2_winners.PRED_WIN_INDICATOR == 0), round_2_winners.w_region)\n",
    "    .otherwise(round_2_winners.l_region)\n",
    ").select(\"W_TEAM_ID\",\"L_TEAM_ID\",\"W_TEAM_NAME\",\"L_TEAM_NAME\",\"W_TEAM_SEED\",\"L_TEAM_SEED\",\"W_TEAM_REGION\",\"L_TEAM_REGION\")"
   ]
  },
  {
   "cell_type": "code",
   "execution_count": null,
   "metadata": {},
   "outputs": [],
   "source": [
    "round_2_winners.count()"
   ]
  },
  {
   "cell_type": "code",
   "execution_count": null,
   "metadata": {},
   "outputs": [],
   "source": [
    "round_2_winners.sort(\"W_TEAM_REGION\").show(20)"
   ]
  },
  {
   "cell_type": "code",
   "execution_count": null,
   "metadata": {},
   "outputs": [],
   "source": [
    "from snowflake.snowpark.functions import col\n",
    "\n",
    "df1_distinct = round_2_winners.cache_result()\n",
    "df2_distinct = round_2_winners.cache_result()\n",
    "\n",
    "\n",
    "# Now, let's revise the join operation with proper condition grouping\n",
    "sweet_16_matchups = df1_distinct.join(\n",
    "    df2_distinct,\n",
    "    (df1_distinct.W_TEAM_REGION == df2_distinct.W_TEAM_REGION) &\n",
    "    (\n",
    "        (df1_distinct.w_team_seed == 1) & (df2_distinct.w_team_seed.isin([5, 12, 4, 13])) |\n",
    "        (df1_distinct.w_team_seed == 1) & (df2_distinct.w_team_seed.isin([5, 12, 4, 13])) |\n",
    "        (df1_distinct.w_team_seed == 16) & (df2_distinct.w_team_seed.isin([5, 12, 4, 13])) |\n",
    "        (df1_distinct.w_team_seed == 8) & (df2_distinct.w_team_seed.isin([5, 12, 4, 13])) |\n",
    "        (df1_distinct.w_team_seed == 9) & (df2_distinct.w_team_seed.isin([5, 12, 4, 13])) \n",
    "        # (df1_distinct.w_team_seed == 5) & (df2_distinct.w_team_seed.isin([1, 16, 8, 9])) |\n",
    "        # (df1_distinct.w_team_seed == 12) & (df2_distinct.w_team_seed.isin([1, 16, 8, 9])) |\n",
    "        # (df1_distinct.w_team_seed == 4) & (df2_distinct.w_team_seed.isin([1, 16, 8, 9])) |\n",
    "        # (df1_distinct.w_team_seed == 13) & (df2_distinct.w_team_seed.isin([1, 16, 8, 9]))\n",
    "    ),\n",
    "    \"inner\"\n",
    ").select(\n",
    "    (df1_distinct.W_TEAM_NAME).alias(\"Wteam_name\"),\n",
    "    (df1_distinct.W_TEAM_REGION).alias(\"w_team_region\"),\n",
    "    (df1_distinct.W_TEAM_ID).alias(\"WTeamID2\"),\n",
    "    (df2_distinct.W_TEAM_NAME).alias(\"lTeam_name\"),\n",
    "    (df2_distinct.W_TEAM_REGION).alias(\"l_region\"),\n",
    "    (df2_distinct.W_TEAM_ID).alias(\"lteamID2\"),\n",
    ")"
   ]
  },
  {
   "cell_type": "markdown",
   "metadata": {},
   "source": [
    "## Sweet 16 matchups"
   ]
  },
  {
   "cell_type": "code",
   "execution_count": null,
   "metadata": {},
   "outputs": [],
   "source": [
    "sweet_16_matchups.sort(\"w_team_region\").show()"
   ]
  },
  {
   "cell_type": "markdown",
   "metadata": {},
   "source": [
    "# Predict Elite 8"
   ]
  },
  {
   "cell_type": "code",
   "execution_count": null,
   "metadata": {},
   "outputs": [],
   "source": [
    "third_round = sweet_16_matchups.select('WTEAMID2','LTEAMID2')"
   ]
  },
  {
   "cell_type": "code",
   "execution_count": null,
   "metadata": {},
   "outputs": [],
   "source": [
    "l_team = [col for col in test_2023.columns if not col.startswith('W_')]\n",
    "l_team_data = test_2023[l_team].drop('WTEAMID','WSCORE','WIN_INDICATOR','ROUND','ROUND_NUMBER')\n",
    "\n",
    "w_team = [col for col in test_2023.columns if not col.startswith('L_')]\n",
    "w_team_data = test_2023[w_team].drop('lTEAMID','lSCORE','SEASON','ROUND_NUMBER','ROUND','WIN_INDICATOR')\n",
    "\n",
    "games_16 = third_round.join(l_team_data,l_team_data.lteamid == third_round.LTEAMID2).join(w_team_data,w_team_data.wteamid == third_round.WTEAMID2,\"inner\").drop('LTEAMID2','WTEAMID2')"
   ]
  },
  {
   "cell_type": "code",
   "execution_count": null,
   "metadata": {},
   "outputs": [],
   "source": [
    "result = grid_search.predict(games_16)\n",
    "\n",
    "teams = session.table(\"mteams\")\n",
    "for col in teams.columns:\n",
    "    teams = teams.withColumnRenamed(col, col.upper())\n",
    "\n",
    "result = result.select(\n",
    "    \"season\",\n",
    "    \"lteamID\",\n",
    "    \"l_seed\",\n",
    "    \"l_region\",\n",
    "    \"wteamid\",\n",
    "    \"w_seed\",\n",
    "    \"w_region\",\n",
    "    \"pred_win_indicator\",\n",
    ")\n",
    "\n",
    "res_teamsl = (\n",
    "    result.join(teams, result.col(\"LTEAMID\") == teams.col(\"TEAMID\"))\n",
    "    .with_column_renamed(\"teamname\", \"lteam_name\")\n",
    "    .drop(\"firstd1season\", \"lastd1season\")\n",
    ")\n",
    "res_teamsl = res_teamsl.cache_result()\n",
    "\n",
    "round_3_winners = (\n",
    "    res_teamsl.join(teams, result.col(\"WTEAMID\") == teams.col(\"TEAMID\"))\n",
    "    .with_column_renamed(\"teamname\", \"wteam_name\")\n",
    "    .select(\n",
    "        \"season\",\n",
    "        \"lteamid\",\n",
    "        \"wteamid\",\n",
    "        \"LTEAM_NAME\",\n",
    "        \"l_seed\",\n",
    "        \"l_region\",\n",
    "        \"WTEAM_NAME\",\n",
    "        \"w_seed\",\n",
    "        \"w_region\",\n",
    "        \"pred_win_indicator\",\n",
    "    )\n",
    ")\n",
    "\n",
    "round_3_winners.sort(\"W_REGION\").show(16)"
   ]
  },
  {
   "cell_type": "code",
   "execution_count": null,
   "metadata": {},
   "outputs": [],
   "source": [
    "round_3_winners = round_3_winners.with_column(\n",
    "    \"W_TEAM_ID\",\n",
    "    when((round_3_winners.PRED_WIN_INDICATOR == 1), round_3_winners.wteamid)\n",
    "    .otherwise(round_3_winners.lteamID),\n",
    ").with_column(\n",
    "    \"L_TEAM_ID\",\n",
    "    when((round_3_winners.PRED_WIN_INDICATOR == 0), round_3_winners.wteamid)\n",
    "    .otherwise(round_3_winners.lteamID),\n",
    ").with_column(\n",
    "    \"W_TEAM_NAME\",\n",
    "    when((round_3_winners.PRED_WIN_INDICATOR == 1), round_3_winners.wteam_name)\n",
    "    .otherwise(round_3_winners.lteam_name),\n",
    ").with_column(\n",
    "    \"L_TEAM_NAME\",\n",
    "    when((round_3_winners.PRED_WIN_INDICATOR == 0), round_3_winners.wteam_name)\n",
    "    .otherwise(round_3_winners.lteam_name),\n",
    ").with_column(\n",
    "    \"W_TEAM_SEED\",\n",
    "    when((round_3_winners.PRED_WIN_INDICATOR == 1), round_3_winners.w_seed)\n",
    "    .otherwise(round_3_winners.l_seed),\n",
    ").with_column(\n",
    "    \"L_TEAM_SEED\",\n",
    "    when((round_3_winners.PRED_WIN_INDICATOR == 0), round_3_winners.w_seed)\n",
    "    .otherwise(round_3_winners.l_seed)\n",
    ").with_column(\n",
    "    \"W_TEAM_REGION\",\n",
    "    when((round_3_winners.PRED_WIN_INDICATOR == 1), round_3_winners.w_region)\n",
    "    .otherwise(round_3_winners.l_region)\n",
    ").with_column(\n",
    "    \"L_TEAM_REGION\",\n",
    "    when((round_3_winners.PRED_WIN_INDICATOR == 0), round_3_winners.w_region)\n",
    "    .otherwise(round_3_winners.l_region)\n",
    ").select(\"W_TEAM_ID\",\"L_TEAM_ID\",\"W_TEAM_NAME\",\"L_TEAM_NAME\",\"W_TEAM_SEED\",\"L_TEAM_SEED\",\"W_TEAM_REGION\",\"L_TEAM_REGION\")"
   ]
  },
  {
   "cell_type": "code",
   "execution_count": null,
   "metadata": {},
   "outputs": [],
   "source": [
    "round_3_winners.show()"
   ]
  },
  {
   "cell_type": "code",
   "execution_count": null,
   "metadata": {},
   "outputs": [],
   "source": [
    "elite_eight_matchups = df1.join(\n",
    "    df2,\n",
    "    (df1.w_team_region == df2.w_team_region) & (df1.W_TEAM_ID != df2.W_TEAM_ID),\n",
    "    \"inner\",\n",
    ").select(\n",
    "    (df1.W_TEAM_NAME).alias(\"team1_name\"),\n",
    "    (df1.W_TEAM_REGION).alias(\"team1_region\"),\n",
    "    (df1.W_TEAM_ID).alias(\"team1_ID\"),\n",
    "    (df2.W_TEAM_NAME).alias(\"team2_name\"),\n",
    "    (df2.W_TEAM_REGION).alias(\"team2_region\"),\n",
    "    (df2.W_TEAM_ID).alias(\"team2_ID\"),\n",
    ")"
   ]
  },
  {
   "cell_type": "markdown",
   "metadata": {},
   "source": [
    "## Final Four"
   ]
  },
  {
   "cell_type": "code",
   "execution_count": null,
   "metadata": {},
   "outputs": [],
   "source": [
    "final_four_matchups = df1.join(\n",
    "    df2,\n",
    "    (df1.w_team_region != df2.w_team_region)  # Ensuring teams are from different regions\n",
    "    & (\n",
    "        ((df1.w_team_region == 'Region 1') & (df2.w_team_region == 'Region 2'))\n",
    "        | ((df1.w_team_region == 'Region 2') & (df2.w_team_region == 'Region 1'))  # Pairing Region 1 and 2\n",
    "        | ((df1.w_team_region == 'Region 3') & (df2.w_team_region == 'Region 4'))\n",
    "        | ((df1.w_team_region == 'Region 4') & (df2.w_team_region == 'Region 3'))  # Pairing Region 3 and 4\n",
    "    ),\n",
    "    \"inner\",\n",
    ").select(\n",
    "    (df1.W_TEAM_NAME).alias(\"team1_name\"),\n",
    "    (df1.W_TEAM_REGION).alias(\"team1_region\"),\n",
    "    (df1.W_TEAM_ID).alias(\"team1_ID\"),\n",
    "    (df2.W_TEAM_NAME).alias(\"team2_name\"),\n",
    "    (df2.W_TEAM_REGION).alias(\"team2_region\"),\n",
    "    (df2.W_TEAM_ID).alias(\"team2_ID\"),\n",
    ")"
   ]
  }
 ],
 "metadata": {
  "kernelspec": {
   "display_name": "Python 3 (ipykernel)",
   "language": "python",
   "name": "python3"
  },
  "language_info": {
   "codemirror_mode": {
    "name": "ipython",
    "version": 3
   },
   "file_extension": ".py",
   "mimetype": "text/x-python",
   "name": "python",
   "nbconvert_exporter": "python",
   "pygments_lexer": "ipython3",
   "version": "3.9.18"
  }
 },
 "nbformat": 4,
 "nbformat_minor": 4
}
